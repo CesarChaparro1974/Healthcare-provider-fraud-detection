{
 "cells": [
  {
   "cell_type": "markdown",
   "metadata": {},
   "source": [
    "### Project Objectives"
   ]
  },
  {
   "cell_type": "markdown",
   "metadata": {},
   "source": [
    "Provider Fraud is one of the biggest problems facing Medicare. According to the government, the total Medicare spending increased exponentially due to frauds in Medicare claims. Healthcare fraud is an organized crime which involves peers of providers, physicians, beneficiaries acting together to make fraud claims."
   ]
  },
  {
   "cell_type": "markdown",
   "metadata": {},
   "source": [
    "Rigorous analysis of Medicare data has yielded many physicians who indulge in fraud. They adopt ways in which an ambiguous diagnosis code is used to adopt costliest procedures and drugs. Insurance companies are the most vulnerable institutions impacted due to these bad practices. Due to this reason, insurance companies increased their insurance premiums and as result healthcare is becoming costly matter day by day."
   ]
  },
  {
   "cell_type": "markdown",
   "metadata": {},
   "source": [
    "Healthcare fraud and abuse take many forms. Some of the most common types of frauds by providers are:<br>\n",
    "* Billing for services that were not provided.<br>\n",
    "* Duplicate submission of a claim for the same service.<br>\n",
    "* Misrepresenting the service provided.<br>\n",
    "*  Charging for a more complex or expensive service than was actually provided.<br>\n",
    "* Billing for a covered service when the service actually provided was not covered."
   ]
  },
  {
   "cell_type": "markdown",
   "metadata": {},
   "source": [
    "### Problem Statement"
   ]
  },
  {
   "cell_type": "markdown",
   "metadata": {},
   "source": [
    "The goal of this project is to \" predict the potentially fraudulent providers \" based on the claims filed by them. Along with this, we will also discover important variables helpful in detecting the behaviour of potentially fraud providers. further, we will study fraudulent patterns in the provider's claims to understand the future behaviour of providers."
   ]
  },
  {
   "cell_type": "markdown",
   "metadata": {},
   "source": [
    "### Introduction to the Dataset"
   ]
  },
  {
   "cell_type": "markdown",
   "metadata": {},
   "source": [
    "For the purpose of this project, we are considering Inpatient claims, Outpatient claims and Beneficiary details of each provider.<br>\n",
    "Lets see their details :<br>\n",
    "* Inpatient Data:<br>\n",
    "This data provides insights about the claims filed for those patients who are admitted in the hospitals. It also provides additional details like their admission and discharge dates and admit d diagnosis code.<br>\n",
    "* Outpatient Data:<br>\n",
    "This data provides details about the claims filed for those patients who visit hospitals and not admitted in it.<br>\n",
    "* Beneficiary Details Data:<br>\n",
    "This data contains beneficiary KYC details like health conditions,regioregion they belong to etc."
   ]
  },
  {
   "cell_type": "markdown",
   "metadata": {},
   "source": [
    "### Defintions:<br>\n",
    "* DOB: Date of birth\n",
    "* DOD: Date of death\n",
    "* Part A coverage: Medicare Part A, often referred to as hospital insurance, primarily covers inpatient care in hospitals, skilled nursing facilities, hospice care, and some home health services.<br>\n",
    "* Part B coverage: Medicare Part B is a component of Original Medicare that covers medically necessary services and preventive care, such as doctor visits, outpatient care, and certain medical supplies.<br>\n",
    "* IPAnnualReimbursementAmt: This refers to the total amount reimbursed by the insurance provider for inpatient (IP) services over a year. It represents the financial compensation received for covered inpatient medical expenses.<br>\n",
    "* OPAnnualReimbursementAmt: Similar to the inpatient counterpart, this term denotes the total amount reimbursed by the insurance provider for outpatient (OP) services over a year. It reflects the financial compensation for covered outpatient medical expenses.<br>\n",
    "* IPAnnualDeductibleAmt: This is the total amount that an individual must pay out-of-pocket for inpatient services before the insurance coverage begins to reimburse any costs. It is a yearly threshold that must be met.<br>\n",
    "* OPAnnualDeductibleAmt: This indicates the total out-of-pocket expense that an individual must cover for outpatient services before their insurance starts to pay for those costs. Like the inpatient deductible, it is calculated annually. "
   ]
  },
  {
   "cell_type": "code",
   "execution_count": 1,
   "metadata": {},
   "outputs": [],
   "source": [
    "import numpy as np\n",
    "import pandas as pd\n",
    "import matplotlib.pyplot as plt\n",
    "import seaborn as sns\n",
    "from scipy.stats import norm\n",
    "import matplotlib.cm as cm"
   ]
  },
  {
   "cell_type": "code",
   "execution_count": 2,
   "metadata": {},
   "outputs": [],
   "source": [
    "# open datasets\n",
    "test_beneficiary = pd.read_csv(\"data_base/Test_Beneficiarydata-1542969243754.csv\")\n",
    "test_inpatient = pd.read_csv(\"data_base/Test_Inpatientdata-1542969243754.csv\")\n",
    "test_outpatient = pd.read_csv(\"data_base/Test_Outpatientdata-1542969243754.csv\")\n",
    "test = pd.read_csv(\"data_base/Test-1542969243754.csv\")\n",
    "train_beneficiary = pd.read_csv(\"data_base/Train_Beneficiarydata-1542865627584.csv\")\n",
    "train_inpatient = pd.read_csv(\"data_base/Train_Inpatientdata-1542865627584.csv\")\n",
    "train_outpatient = pd.read_csv(\"data_base/Train_Outpatientdata-1542865627584.csv\")\n",
    "train = pd.read_csv(\"data_base/Train-1542865627584.csv\")"
   ]
  },
  {
   "cell_type": "markdown",
   "metadata": {},
   "source": [
    "#### Beneficiaries Data Set."
   ]
  },
  {
   "cell_type": "code",
   "execution_count": 3,
   "metadata": {},
   "outputs": [
    {
     "data": {
      "text/html": [
       "<div>\n",
       "<style scoped>\n",
       "    .dataframe tbody tr th:only-of-type {\n",
       "        vertical-align: middle;\n",
       "    }\n",
       "\n",
       "    .dataframe tbody tr th {\n",
       "        vertical-align: top;\n",
       "    }\n",
       "\n",
       "    .dataframe thead th {\n",
       "        text-align: right;\n",
       "    }\n",
       "</style>\n",
       "<table border=\"1\" class=\"dataframe\">\n",
       "  <thead>\n",
       "    <tr style=\"text-align: right;\">\n",
       "      <th></th>\n",
       "      <th>BeneID</th>\n",
       "      <th>DOB</th>\n",
       "      <th>DOD</th>\n",
       "      <th>Gender</th>\n",
       "      <th>Race</th>\n",
       "      <th>RenalDiseaseIndicator</th>\n",
       "      <th>State</th>\n",
       "      <th>County</th>\n",
       "      <th>NoOfMonths_PartACov</th>\n",
       "      <th>NoOfMonths_PartBCov</th>\n",
       "      <th>...</th>\n",
       "      <th>ChronicCond_Depression</th>\n",
       "      <th>ChronicCond_Diabetes</th>\n",
       "      <th>ChronicCond_IschemicHeart</th>\n",
       "      <th>ChronicCond_Osteoporasis</th>\n",
       "      <th>ChronicCond_rheumatoidarthritis</th>\n",
       "      <th>ChronicCond_stroke</th>\n",
       "      <th>IPAnnualReimbursementAmt</th>\n",
       "      <th>IPAnnualDeductibleAmt</th>\n",
       "      <th>OPAnnualReimbursementAmt</th>\n",
       "      <th>OPAnnualDeductibleAmt</th>\n",
       "    </tr>\n",
       "  </thead>\n",
       "  <tbody>\n",
       "    <tr>\n",
       "      <th>0</th>\n",
       "      <td>BENE11001</td>\n",
       "      <td>1943-01-01</td>\n",
       "      <td>NaN</td>\n",
       "      <td>1</td>\n",
       "      <td>1</td>\n",
       "      <td>0</td>\n",
       "      <td>39</td>\n",
       "      <td>230</td>\n",
       "      <td>12</td>\n",
       "      <td>12</td>\n",
       "      <td>...</td>\n",
       "      <td>1</td>\n",
       "      <td>1</td>\n",
       "      <td>1</td>\n",
       "      <td>2</td>\n",
       "      <td>1</td>\n",
       "      <td>1</td>\n",
       "      <td>36000</td>\n",
       "      <td>3204</td>\n",
       "      <td>60</td>\n",
       "      <td>70</td>\n",
       "    </tr>\n",
       "    <tr>\n",
       "      <th>1</th>\n",
       "      <td>BENE11007</td>\n",
       "      <td>1940-09-01</td>\n",
       "      <td>2009-12-01</td>\n",
       "      <td>1</td>\n",
       "      <td>2</td>\n",
       "      <td>0</td>\n",
       "      <td>45</td>\n",
       "      <td>610</td>\n",
       "      <td>12</td>\n",
       "      <td>12</td>\n",
       "      <td>...</td>\n",
       "      <td>2</td>\n",
       "      <td>1</td>\n",
       "      <td>2</td>\n",
       "      <td>1</td>\n",
       "      <td>1</td>\n",
       "      <td>2</td>\n",
       "      <td>0</td>\n",
       "      <td>0</td>\n",
       "      <td>1490</td>\n",
       "      <td>160</td>\n",
       "    </tr>\n",
       "    <tr>\n",
       "      <th>2</th>\n",
       "      <td>BENE11010</td>\n",
       "      <td>1936-07-01</td>\n",
       "      <td>NaN</td>\n",
       "      <td>2</td>\n",
       "      <td>1</td>\n",
       "      <td>0</td>\n",
       "      <td>41</td>\n",
       "      <td>30</td>\n",
       "      <td>12</td>\n",
       "      <td>12</td>\n",
       "      <td>...</td>\n",
       "      <td>2</td>\n",
       "      <td>1</td>\n",
       "      <td>1</td>\n",
       "      <td>1</td>\n",
       "      <td>2</td>\n",
       "      <td>2</td>\n",
       "      <td>0</td>\n",
       "      <td>0</td>\n",
       "      <td>1170</td>\n",
       "      <td>660</td>\n",
       "    </tr>\n",
       "    <tr>\n",
       "      <th>3</th>\n",
       "      <td>BENE11011</td>\n",
       "      <td>1914-03-01</td>\n",
       "      <td>NaN</td>\n",
       "      <td>2</td>\n",
       "      <td>2</td>\n",
       "      <td>0</td>\n",
       "      <td>1</td>\n",
       "      <td>360</td>\n",
       "      <td>12</td>\n",
       "      <td>12</td>\n",
       "      <td>...</td>\n",
       "      <td>1</td>\n",
       "      <td>1</td>\n",
       "      <td>2</td>\n",
       "      <td>2</td>\n",
       "      <td>1</td>\n",
       "      <td>1</td>\n",
       "      <td>5000</td>\n",
       "      <td>1068</td>\n",
       "      <td>250</td>\n",
       "      <td>320</td>\n",
       "    </tr>\n",
       "    <tr>\n",
       "      <th>4</th>\n",
       "      <td>BENE11014</td>\n",
       "      <td>1938-04-01</td>\n",
       "      <td>NaN</td>\n",
       "      <td>2</td>\n",
       "      <td>1</td>\n",
       "      <td>Y</td>\n",
       "      <td>45</td>\n",
       "      <td>780</td>\n",
       "      <td>12</td>\n",
       "      <td>12</td>\n",
       "      <td>...</td>\n",
       "      <td>1</td>\n",
       "      <td>2</td>\n",
       "      <td>1</td>\n",
       "      <td>2</td>\n",
       "      <td>2</td>\n",
       "      <td>2</td>\n",
       "      <td>21260</td>\n",
       "      <td>2136</td>\n",
       "      <td>120</td>\n",
       "      <td>100</td>\n",
       "    </tr>\n",
       "  </tbody>\n",
       "</table>\n",
       "<p>5 rows × 25 columns</p>\n",
       "</div>"
      ],
      "text/plain": [
       "      BeneID         DOB         DOD  Gender  Race RenalDiseaseIndicator  \\\n",
       "0  BENE11001  1943-01-01         NaN       1     1                     0   \n",
       "1  BENE11007  1940-09-01  2009-12-01       1     2                     0   \n",
       "2  BENE11010  1936-07-01         NaN       2     1                     0   \n",
       "3  BENE11011  1914-03-01         NaN       2     2                     0   \n",
       "4  BENE11014  1938-04-01         NaN       2     1                     Y   \n",
       "\n",
       "   State  County  NoOfMonths_PartACov  NoOfMonths_PartBCov  ...  \\\n",
       "0     39     230                   12                   12  ...   \n",
       "1     45     610                   12                   12  ...   \n",
       "2     41      30                   12                   12  ...   \n",
       "3      1     360                   12                   12  ...   \n",
       "4     45     780                   12                   12  ...   \n",
       "\n",
       "   ChronicCond_Depression  ChronicCond_Diabetes  ChronicCond_IschemicHeart  \\\n",
       "0                       1                     1                          1   \n",
       "1                       2                     1                          2   \n",
       "2                       2                     1                          1   \n",
       "3                       1                     1                          2   \n",
       "4                       1                     2                          1   \n",
       "\n",
       "   ChronicCond_Osteoporasis  ChronicCond_rheumatoidarthritis  \\\n",
       "0                         2                                1   \n",
       "1                         1                                1   \n",
       "2                         1                                2   \n",
       "3                         2                                1   \n",
       "4                         2                                2   \n",
       "\n",
       "   ChronicCond_stroke  IPAnnualReimbursementAmt  IPAnnualDeductibleAmt  \\\n",
       "0                   1                     36000                   3204   \n",
       "1                   2                         0                      0   \n",
       "2                   2                         0                      0   \n",
       "3                   1                      5000                   1068   \n",
       "4                   2                     21260                   2136   \n",
       "\n",
       "   OPAnnualReimbursementAmt  OPAnnualDeductibleAmt  \n",
       "0                        60                     70  \n",
       "1                      1490                    160  \n",
       "2                      1170                    660  \n",
       "3                       250                    320  \n",
       "4                       120                    100  \n",
       "\n",
       "[5 rows x 25 columns]"
      ]
     },
     "execution_count": 3,
     "metadata": {},
     "output_type": "execute_result"
    }
   ],
   "source": [
    "test_beneficiary.head()"
   ]
  },
  {
   "cell_type": "code",
   "execution_count": 4,
   "metadata": {},
   "outputs": [
    {
     "name": "stdout",
     "output_type": "stream",
     "text": [
      "<class 'pandas.core.frame.DataFrame'>\n",
      "RangeIndex: 63968 entries, 0 to 63967\n",
      "Data columns (total 25 columns):\n",
      " #   Column                           Non-Null Count  Dtype \n",
      "---  ------                           --------------  ----- \n",
      " 0   BeneID                           63968 non-null  object\n",
      " 1   DOB                              63968 non-null  object\n",
      " 2   DOD                              574 non-null    object\n",
      " 3   Gender                           63968 non-null  int64 \n",
      " 4   Race                             63968 non-null  int64 \n",
      " 5   RenalDiseaseIndicator            63968 non-null  object\n",
      " 6   State                            63968 non-null  int64 \n",
      " 7   County                           63968 non-null  int64 \n",
      " 8   NoOfMonths_PartACov              63968 non-null  int64 \n",
      " 9   NoOfMonths_PartBCov              63968 non-null  int64 \n",
      " 10  ChronicCond_Alzheimer            63968 non-null  int64 \n",
      " 11  ChronicCond_Heartfailure         63968 non-null  int64 \n",
      " 12  ChronicCond_KidneyDisease        63968 non-null  int64 \n",
      " 13  ChronicCond_Cancer               63968 non-null  int64 \n",
      " 14  ChronicCond_ObstrPulmonary       63968 non-null  int64 \n",
      " 15  ChronicCond_Depression           63968 non-null  int64 \n",
      " 16  ChronicCond_Diabetes             63968 non-null  int64 \n",
      " 17  ChronicCond_IschemicHeart        63968 non-null  int64 \n",
      " 18  ChronicCond_Osteoporasis         63968 non-null  int64 \n",
      " 19  ChronicCond_rheumatoidarthritis  63968 non-null  int64 \n",
      " 20  ChronicCond_stroke               63968 non-null  int64 \n",
      " 21  IPAnnualReimbursementAmt         63968 non-null  int64 \n",
      " 22  IPAnnualDeductibleAmt            63968 non-null  int64 \n",
      " 23  OPAnnualReimbursementAmt         63968 non-null  int64 \n",
      " 24  OPAnnualDeductibleAmt            63968 non-null  int64 \n",
      "dtypes: int64(21), object(4)\n",
      "memory usage: 12.2+ MB\n"
     ]
    }
   ],
   "source": [
    "test_beneficiary.info()"
   ]
  },
  {
   "cell_type": "code",
   "execution_count": 5,
   "metadata": {},
   "outputs": [
    {
     "data": {
      "text/plain": [
       "(63968, 25)"
      ]
     },
     "execution_count": 5,
     "metadata": {},
     "output_type": "execute_result"
    }
   ],
   "source": [
    "test_beneficiary.shape"
   ]
  },
  {
   "cell_type": "code",
   "execution_count": 6,
   "metadata": {},
   "outputs": [
    {
     "name": "stdout",
     "output_type": "stream",
     "text": [
      "There are 0 duplicate beneficiaries.\n"
     ]
    }
   ],
   "source": [
    "# checking for duplicates on beneficiaries column.\n",
    "# display duplicated beneficiaries in the column.\n",
    "print(f\"There are {test_beneficiary['BeneID'].duplicated().sum()} duplicate beneficiaries.\")"
   ]
  },
  {
   "cell_type": "code",
   "execution_count": 7,
   "metadata": {},
   "outputs": [
    {
     "name": "stdout",
     "output_type": "stream",
     "text": [
      "There are 63968 unique beneficiaries.\n"
     ]
    }
   ],
   "source": [
    "# display unique number of beneficiaries.\n",
    "print(f\"There are {len(test_beneficiary.BeneID.unique())} unique beneficiaries.\")"
   ]
  },
  {
   "cell_type": "markdown",
   "metadata": {},
   "source": [
    "#### Beneficiaries by Gender."
   ]
  },
  {
   "cell_type": "code",
   "execution_count": 8,
   "metadata": {},
   "outputs": [
    {
     "name": "stdout",
     "output_type": "stream",
     "text": [
      "Distribution of Beneficiaries by Gender:\n",
      "Gender\n",
      "2    36721\n",
      "1    27247\n",
      "Name: count, dtype: int64\n"
     ]
    }
   ],
   "source": [
    "# distribution of beneficiaries by gender\n",
    "gender_distribution = test_beneficiary['Gender'].value_counts()\n",
    "print(\"Distribution of Beneficiaries by Gender:\")\n",
    "print(gender_distribution)"
   ]
  },
  {
   "cell_type": "code",
   "execution_count": 9,
   "metadata": {},
   "outputs": [
    {
     "name": "stdout",
     "output_type": "stream",
     "text": [
      "\n",
      "Percentage Distribution:\n",
      "Gender\n",
      "2    57.41\n",
      "1    42.59\n",
      "Name: proportion, dtype: float64\n"
     ]
    }
   ],
   "source": [
    "# calculate percentage distribution\n",
    "percentage_distribution = (test_beneficiary['Gender'].value_counts(normalize=True) * 100).round(2)\n",
    "print(\"\\nPercentage Distribution:\")\n",
    "print(percentage_distribution)"
   ]
  },
  {
   "cell_type": "code",
   "execution_count": 10,
   "metadata": {},
   "outputs": [
    {
     "name": "stderr",
     "output_type": "stream",
     "text": [
      "/var/folders/qk/q0fv26q13m760q3ch0fljs240000gn/T/ipykernel_92036/1935555145.py:4: FutureWarning: \n",
      "\n",
      "Passing `palette` without assigning `hue` is deprecated and will be removed in v0.14.0. Assign the `x` variable to `hue` and set `legend=False` for the same effect.\n",
      "\n",
      "  ax = sns.countplot(data=test_beneficiary, x='Gender',\n"
     ]
    },
    {
     "data": {
      "image/png": "[encoded data removed]",
      "text/plain": [
       "<Figure size 800x600 with 1 Axes>"
      ]
     },
     "metadata": {},
     "output_type": "display_data"
    }
   ],
   "source": [
    "# create the plot\n",
    "plt.figure(figsize=(8, 6))\n",
    "\n",
    "ax = sns.countplot(data=test_beneficiary, x='Gender', \n",
    "                  palette=['#2E86C1', '#F39C12'])\n",
    "\n",
    "# Calculate percentages\n",
    "total = len(test_beneficiary)\n",
    "for p in ax.patches:\n",
    "    percentage = '{:.1f}%'.format(100 * p.get_height()/total)\n",
    "    x = p.get_x() + p.get_width()/2\n",
    "    y = p.get_height()\n",
    "    ax.annotate(percentage, (x, y), ha='center', va='bottom')\n",
    "\n",
    "plt.title('Distribution of Beneficiaries by Gender')\n",
    "plt.xlabel('Gender')\n",
    "plt.ylabel('Number of Beneficiaries')\n",
    "plt.show()"
   ]
  },
  {
   "cell_type": "markdown",
   "metadata": {},
   "source": [
    "#### Beneficiaries by Year of Birth."
   ]
  },
  {
   "cell_type": "markdown",
   "metadata": {},
   "source": [
    "##### DOB column is object, we have to convert it into datetime type in order to manipulate it."
   ]
  },
  {
   "cell_type": "code",
   "execution_count": 11,
   "metadata": {},
   "outputs": [
    {
     "name": "stdout",
     "output_type": "stream",
     "text": [
      "New data type: datetime64[ns]\n",
      "\n",
      "First few dates after conversion:\n",
      "0   1943-01-01\n",
      "1   1940-09-01\n",
      "2   1936-07-01\n",
      "3   1914-03-01\n",
      "4   1938-04-01\n",
      "Name: DOB, dtype: datetime64[ns]\n"
     ]
    }
   ],
   "source": [
    "# Simple conversion (since it's in standard ISO format)\n",
    "test_beneficiary['DOB'] = pd.to_datetime(test_beneficiary['DOB'])\n",
    "\n",
    "# Verify the conversion\n",
    "print(\"New data type:\", test_beneficiary['DOB'].dtype)\n",
    "\n",
    "# Display a few examples to confirm the conversion\n",
    "print(\"\\nFirst few dates after conversion:\")\n",
    "print(test_beneficiary['DOB'].head())"
   ]
  },
  {
   "cell_type": "code",
   "execution_count": 12,
   "metadata": {},
   "outputs": [
    {
     "data": {
      "text/html": [
       "<div>\n",
       "<style scoped>\n",
       "    .dataframe tbody tr th:only-of-type {\n",
       "        vertical-align: middle;\n",
       "    }\n",
       "\n",
       "    .dataframe tbody tr th {\n",
       "        vertical-align: top;\n",
       "    }\n",
       "\n",
       "    .dataframe thead th {\n",
       "        text-align: right;\n",
       "    }\n",
       "</style>\n",
       "<table border=\"1\" class=\"dataframe\">\n",
       "  <thead>\n",
       "    <tr style=\"text-align: right;\">\n",
       "      <th></th>\n",
       "      <th>Year</th>\n",
       "      <th>Count</th>\n",
       "    </tr>\n",
       "  </thead>\n",
       "  <tbody>\n",
       "    <tr>\n",
       "      <th>0</th>\n",
       "      <td>1909</td>\n",
       "      <td>361</td>\n",
       "    </tr>\n",
       "    <tr>\n",
       "      <th>1</th>\n",
       "      <td>1910</td>\n",
       "      <td>342</td>\n",
       "    </tr>\n",
       "    <tr>\n",
       "      <th>2</th>\n",
       "      <td>1911</td>\n",
       "      <td>337</td>\n",
       "    </tr>\n",
       "    <tr>\n",
       "      <th>3</th>\n",
       "      <td>1912</td>\n",
       "      <td>352</td>\n",
       "    </tr>\n",
       "    <tr>\n",
       "      <th>4</th>\n",
       "      <td>1913</td>\n",
       "      <td>356</td>\n",
       "    </tr>\n",
       "  </tbody>\n",
       "</table>\n",
       "</div>"
      ],
      "text/plain": [
       "   Year  Count\n",
       "0  1909    361\n",
       "1  1910    342\n",
       "2  1911    337\n",
       "3  1912    352\n",
       "4  1913    356"
      ]
     },
     "execution_count": 12,
     "metadata": {},
     "output_type": "execute_result"
    }
   ],
   "source": [
    "test_beneficiary['Year'] = test_beneficiary['DOB'].dt.year\n",
    "# group by year and count the number of beneficiaries\n",
    "beneficiaries_by_year = test_beneficiary.groupby('Year').size().reset_index(name='Count')\n",
    "beneficiaries_by_year.head()"
   ]
  },
  {
   "cell_type": "code",
   "execution_count": 13,
   "metadata": {},
   "outputs": [
    {
     "data": {
      "image/png": "[encoded data removed]",
      "text/plain": [
       "<Figure size 1200x600 with 1 Axes>"
      ]
     },
     "metadata": {},
     "output_type": "display_data"
    }
   ],
   "source": [
    "# Create a bar plot\n",
    "plt.figure(figsize=(12, 6))\n",
    "sns.barplot(x='Year', y='Count', data=beneficiaries_by_year, color='skyblue')\n",
    "\n",
    "# Adjust x-axis to show every 5th year\n",
    "xticks = beneficiaries_by_year['Year'][::5]\n",
    "plt.xticks(ticks=range(0, len(beneficiaries_by_year), 5), labels=xticks, rotation=45, ha='right')\n",
    "\n",
    "plt.xlabel('Year')\n",
    "plt.ylabel('Number of Beneficiaries')\n",
    "plt.title('Beneficiaries by Year')\n",
    "plt.tight_layout()  # Adjust layout to fit labels\n",
    "plt.show()"
   ]
  },
  {
   "cell_type": "markdown",
   "metadata": {},
   "source": [
    "##### Most of beneficiaries are born between 1919-1943.<br>\n",
    "##### We can categorize beneficiaries by year in 6 groups:<br>\n",
    "* 1. 1909-1918.<br>\n",
    "* 2. 1919-1943.<br>\n",
    "* 3. 1944-1953.<br>\n",
    "* 4. 1954-1963.<br>\n",
    "* 5. 1964-1973.<br>\n",
    "* 6. 1974-1983."
   ]
  },
  {
   "cell_type": "code",
   "execution_count": 14,
   "metadata": {},
   "outputs": [
    {
     "name": "stderr",
     "output_type": "stream",
     "text": [
      "/var/folders/qk/q0fv26q13m760q3ch0fljs240000gn/T/ipykernel_92036/807018879.py:9: FutureWarning: The default of observed=False is deprecated and will be changed to True in a future version of pandas. Pass observed=False to retain current behavior or observed=True to adopt the future default and silence this warning.\n",
      "  beneficiaries_by_category = beneficiaries_by_year.groupby('Year_Category')['Count'].sum().reset_index()\n"
     ]
    },
    {
     "data": {
      "text/html": [
       "<div>\n",
       "<style scoped>\n",
       "    .dataframe tbody tr th:only-of-type {\n",
       "        vertical-align: middle;\n",
       "    }\n",
       "\n",
       "    .dataframe tbody tr th {\n",
       "        vertical-align: top;\n",
       "    }\n",
       "\n",
       "    .dataframe thead th {\n",
       "        text-align: right;\n",
       "    }\n",
       "</style>\n",
       "<table border=\"1\" class=\"dataframe\">\n",
       "  <thead>\n",
       "    <tr style=\"text-align: right;\">\n",
       "      <th></th>\n",
       "      <th>Year_Category</th>\n",
       "      <th>Count</th>\n",
       "    </tr>\n",
       "  </thead>\n",
       "  <tbody>\n",
       "    <tr>\n",
       "      <th>0</th>\n",
       "      <td>1909-1918</td>\n",
       "      <td>3411</td>\n",
       "    </tr>\n",
       "    <tr>\n",
       "      <th>1</th>\n",
       "      <td>1919-1943</td>\n",
       "      <td>49849</td>\n",
       "    </tr>\n",
       "    <tr>\n",
       "      <th>2</th>\n",
       "      <td>1944-1953</td>\n",
       "      <td>4825</td>\n",
       "    </tr>\n",
       "    <tr>\n",
       "      <th>3</th>\n",
       "      <td>1954-1963</td>\n",
       "      <td>3411</td>\n",
       "    </tr>\n",
       "    <tr>\n",
       "      <th>4</th>\n",
       "      <td>1964-1973</td>\n",
       "      <td>1600</td>\n",
       "    </tr>\n",
       "    <tr>\n",
       "      <th>5</th>\n",
       "      <td>1974-1983</td>\n",
       "      <td>872</td>\n",
       "    </tr>\n",
       "  </tbody>\n",
       "</table>\n",
       "</div>"
      ],
      "text/plain": [
       "  Year_Category  Count\n",
       "0     1909-1918   3411\n",
       "1     1919-1943  49849\n",
       "2     1944-1953   4825\n",
       "3     1954-1963   3411\n",
       "4     1964-1973   1600\n",
       "5     1974-1983    872"
      ]
     },
     "execution_count": 14,
     "metadata": {},
     "output_type": "execute_result"
    }
   ],
   "source": [
    "# Define the year ranges and corresponding group labels\n",
    "bins = [1908, 1918, 1943, 1953, 1963, 1973, 1983]  # Bin edges\n",
    "labels = ['1909-1918', '1919-1943', '1944-1953', '1954-1963', '1964-1973', '1974-1983']  # Bin labels\n",
    "\n",
    "# Create a new column for the year groups\n",
    "beneficiaries_by_year['Year_Category'] = pd.cut(beneficiaries_by_year['Year'], bins=bins, labels=labels, right=True)\n",
    "\n",
    "# Group by the year groups and count the number of beneficiaries\n",
    "beneficiaries_by_category = beneficiaries_by_year.groupby('Year_Category')['Count'].sum().reset_index()\n",
    "# Calculate the total number of beneficiaries\n",
    "total_beneficiaries = beneficiaries_by_category['Count'].sum()\n",
    "# Display the result\n",
    "beneficiaries_by_category"
   ]
  },
  {
   "cell_type": "code",
   "execution_count": 15,
   "metadata": {},
   "outputs": [
    {
     "name": "stderr",
     "output_type": "stream",
     "text": [
      "/var/folders/qk/q0fv26q13m760q3ch0fljs240000gn/T/ipykernel_92036/186935316.py:6: FutureWarning: \n",
      "\n",
      "Passing `palette` without assigning `hue` is deprecated and will be removed in v0.14.0. Assign the `x` variable to `hue` and set `legend=False` for the same effect.\n",
      "\n",
      "  sns.barplot(x='Year_Category', y='Count', data=beneficiaries_by_category, palette='Blues_d')\n"
     ]
    },
    {
     "data": {
      "image/png": "[encoded data removed]",
      "text/plain": [
       "<Figure size 1000x600 with 1 Axes>"
      ]
     },
     "metadata": {},
     "output_type": "display_data"
    }
   ],
   "source": [
    "# calculate the percentage for each category\n",
    "beneficiaries_by_category['Percentage'] = (beneficiaries_by_category['Count'] / total_beneficiaries) * 100\n",
    "\n",
    "# plotting the distribution by categories\n",
    "plt.figure(figsize=(10, 6))\n",
    "sns.barplot(x='Year_Category', y='Count', data=beneficiaries_by_category, palette='Blues_d')\n",
    "\n",
    "# adding percentages on top of each bar\n",
    "for index, row in beneficiaries_by_category.iterrows():\n",
    "    plt.text(index, row['Count'] + 50, f'{row[\"Percentage\"]:.1f}%', ha='center', va='bottom')\n",
    "\n",
    "# adding labels and title\n",
    "plt.xlabel('Year Category')\n",
    "plt.ylabel('Number of Beneficiaries')\n",
    "plt.title('Distribution of Beneficiaries by Year Category with Percentages')\n",
    "\n",
    "# display the plot\n",
    "plt.tight_layout()\n",
    "plt.show()"
   ]
  },
  {
   "cell_type": "markdown",
   "metadata": {},
   "source": [
    "#### Deceased beneficiaries."
   ]
  },
  {
   "cell_type": "markdown",
   "metadata": {},
   "source": [
    "##### Let's check the column of DOD."
   ]
  },
  {
   "cell_type": "code",
   "execution_count": 16,
   "metadata": {},
   "outputs": [
    {
     "name": "stdout",
     "output_type": "stream",
     "text": [
      "New data type: datetime64[ns]\n",
      "\n",
      "First few dates after conversion:\n",
      "0          NaT\n",
      "1   2009-12-01\n",
      "2          NaT\n",
      "3          NaT\n",
      "4          NaT\n",
      "Name: DOD, dtype: datetime64[ns]\n"
     ]
    }
   ],
   "source": [
    "# Simple conversion (since it's in standard ISO format)\n",
    "test_beneficiary['DOD'] = pd.to_datetime(test_beneficiary['DOD'])\n",
    "\n",
    "# Verify the conversion\n",
    "print(\"New data type:\", test_beneficiary['DOD'].dtype)\n",
    "\n",
    "# Display a few examples to confirm the conversion\n",
    "print(\"\\nFirst few dates after conversion:\")\n",
    "print(test_beneficiary['DOD'].head())"
   ]
  },
  {
   "cell_type": "code",
   "execution_count": 17,
   "metadata": {},
   "outputs": [
    {
     "data": {
      "text/plain": [
       "<DatetimeArray>\n",
       "[                'NaT', '2009-12-01 00:00:00', '2009-09-01 00:00:00',\n",
       " '2009-05-01 00:00:00', '2009-08-01 00:00:00', '2009-10-01 00:00:00',\n",
       " '2009-06-01 00:00:00', '2009-07-01 00:00:00', '2009-02-01 00:00:00',\n",
       " '2009-04-01 00:00:00', '2009-11-01 00:00:00', '2009-03-01 00:00:00',\n",
       " '2009-01-01 00:00:00']\n",
       "Length: 13, dtype: datetime64[ns]"
      ]
     },
     "execution_count": 17,
     "metadata": {},
     "output_type": "execute_result"
    }
   ],
   "source": [
    "test_beneficiary['DOD'].unique()"
   ]
  },
  {
   "cell_type": "markdown",
   "metadata": {},
   "source": [
    "##### There are only dead dates for year 2009."
   ]
  },
  {
   "cell_type": "markdown",
   "metadata": {},
   "source": [
    "##### Let's investigate the rows of patients who are dead."
   ]
  },
  {
   "cell_type": "code",
   "execution_count": 18,
   "metadata": {},
   "outputs": [
    {
     "name": "stdout",
     "output_type": "stream",
     "text": [
      "count    574.000000\n",
      "mean      74.412892\n",
      "std       11.110672\n",
      "min       37.000000\n",
      "25%       68.000000\n",
      "50%       75.000000\n",
      "75%       82.000000\n",
      "max      100.000000\n",
      "Name: Age_at_death, dtype: float64\n"
     ]
    }
   ],
   "source": [
    "# Calculate the age by subtracting DOB from DOD and getting the difference in years\n",
    "test_beneficiary['Age_at_death'] = (test_beneficiary['DOD'] - test_beneficiary['DOB']).dt.days / 365.25\n",
    "\n",
    "# Round the age to the nearest integer\n",
    "test_beneficiary['Age_at_death'] = test_beneficiary['Age_at_death'].round()\n",
    "\n",
    "# Check the distribution of ages, you can use:\n",
    "print(test_beneficiary['Age_at_death'].describe())\n"
   ]
  },
  {
   "cell_type": "code",
   "execution_count": 19,
   "metadata": {},
   "outputs": [
    {
     "data": {
      "image/png": "[encoded data removed]",
      "text/plain": [
       "<Figure size 1000x600 with 1 Axes>"
      ]
     },
     "metadata": {},
     "output_type": "display_data"
    }
   ],
   "source": [
    "# Create the scatter plot\n",
    "plt.figure(figsize=(10, 6))\n",
    "sns.scatterplot(x=test_beneficiary.index, y=test_beneficiary['Age_at_death'], color='blue')\n",
    "\n",
    "# Highlight the patient who died at the age of 37\n",
    "patient_37 = test_beneficiary[test_beneficiary['Age_at_death'] == 37]\n",
    "plt.scatter(patient_37.index, patient_37['Age_at_death'], color='red', label='Patient aged 37')\n",
    "\n",
    "# Title and labels\n",
    "plt.title('Scatter Plot of Patient Ages at Death', fontsize=14)\n",
    "plt.xlabel('Patient Index', fontsize=12)\n",
    "plt.ylabel('Age at Death', fontsize=12)\n",
    "\n",
    "# Show the legend\n",
    "plt.legend()\n",
    "\n",
    "# Display the plot\n",
    "plt.show()"
   ]
  },
  {
   "cell_type": "markdown",
   "metadata": {},
   "source": [
    "##### We can conclude that the minimum age of death is not an outlier, also there is no specific pattern of ages through the patients, the ages are distributed uniformly from the minimum to the maximum."
   ]
  },
  {
   "cell_type": "markdown",
   "metadata": {},
   "source": [
    "##### Average death age is 74 years old amongst 574 patients. Date of death only for 2009. Missing data for any other years."
   ]
  },
  {
   "cell_type": "markdown",
   "metadata": {},
   "source": [
    "#### Beneficiaries by Race."
   ]
  },
  {
   "cell_type": "code",
   "execution_count": 20,
   "metadata": {},
   "outputs": [
    {
     "data": {
      "text/html": [
       "<div>\n",
       "<style scoped>\n",
       "    .dataframe tbody tr th:only-of-type {\n",
       "        vertical-align: middle;\n",
       "    }\n",
       "\n",
       "    .dataframe tbody tr th {\n",
       "        vertical-align: top;\n",
       "    }\n",
       "\n",
       "    .dataframe thead th {\n",
       "        text-align: right;\n",
       "    }\n",
       "</style>\n",
       "<table border=\"1\" class=\"dataframe\">\n",
       "  <thead>\n",
       "    <tr style=\"text-align: right;\">\n",
       "      <th></th>\n",
       "      <th>Race</th>\n",
       "      <th>Count</th>\n",
       "    </tr>\n",
       "  </thead>\n",
       "  <tbody>\n",
       "    <tr>\n",
       "      <th>0</th>\n",
       "      <td>1</td>\n",
       "      <td>54105</td>\n",
       "    </tr>\n",
       "    <tr>\n",
       "      <th>1</th>\n",
       "      <td>2</td>\n",
       "      <td>6384</td>\n",
       "    </tr>\n",
       "    <tr>\n",
       "      <th>2</th>\n",
       "      <td>3</td>\n",
       "      <td>2147</td>\n",
       "    </tr>\n",
       "    <tr>\n",
       "      <th>3</th>\n",
       "      <td>5</td>\n",
       "      <td>1332</td>\n",
       "    </tr>\n",
       "  </tbody>\n",
       "</table>\n",
       "</div>"
      ],
      "text/plain": [
       "   Race  Count\n",
       "0     1  54105\n",
       "1     2   6384\n",
       "2     3   2147\n",
       "3     5   1332"
      ]
     },
     "execution_count": 20,
     "metadata": {},
     "output_type": "execute_result"
    }
   ],
   "source": [
    "# group by race and count the number of beneficiaries\n",
    "beneficiaries_by_race = test_beneficiary.groupby('Race').size().reset_index(name='Count')\n",
    "beneficiaries_by_race.head()"
   ]
  },
  {
   "cell_type": "code",
   "execution_count": 21,
   "metadata": {},
   "outputs": [
    {
     "name": "stderr",
     "output_type": "stream",
     "text": [
      "/var/folders/qk/q0fv26q13m760q3ch0fljs240000gn/T/ipykernel_92036/2064551336.py:3: FutureWarning: \n",
      "\n",
      "Passing `palette` without assigning `hue` is deprecated and will be removed in v0.14.0. Assign the `x` variable to `hue` and set `legend=False` for the same effect.\n",
      "\n",
      "  ax = sns.barplot(data=beneficiaries_by_race, x='Race', y='Count',\n"
     ]
    },
    {
     "data": {
      "image/png": "[encoded data removed]",
      "text/plain": [
       "<Figure size 1200x800 with 1 Axes>"
      ]
     },
     "metadata": {},
     "output_type": "display_data"
    }
   ],
   "source": [
    "# create the bar plot\n",
    "plt.figure(figsize=(12, 8))\n",
    "ax = sns.barplot(data=beneficiaries_by_race, x='Race', y='Count', \n",
    "                 palette=['#2E86C1', '#5DADE2', '#85C1E9', '#AED6F1'])\n",
    "\n",
    "# calculate the percentage for each category\n",
    "beneficiaries_by_race['Percentage'] = (beneficiaries_by_race['Count'] / total_beneficiaries) * 100\n",
    "\n",
    "# adding percentages on top of each bar\n",
    "for index, row in beneficiaries_by_race.iterrows():\n",
    "    plt.text(index, row['Count'] + 50, f'{row[\"Percentage\"]:.1f}%', ha='center', va='bottom')\n",
    "\n",
    "# add title and labels\n",
    "plt.title('Distribution of Beneficiaries by Race', fontsize=14)\n",
    "plt.xlabel('Race', fontsize=12)\n",
    "plt.ylabel('Number of Beneficiaries', fontsize=12)\n",
    "\n",
    "# show the plot\n",
    "plt.show()\n",
    "\n"
   ]
  },
  {
   "cell_type": "markdown",
   "metadata": {},
   "source": [
    "#### Beneficiearies by State."
   ]
  },
  {
   "cell_type": "code",
   "execution_count": 22,
   "metadata": {},
   "outputs": [
    {
     "data": {
      "text/html": [
       "<div>\n",
       "<style scoped>\n",
       "    .dataframe tbody tr th:only-of-type {\n",
       "        vertical-align: middle;\n",
       "    }\n",
       "\n",
       "    .dataframe tbody tr th {\n",
       "        vertical-align: top;\n",
       "    }\n",
       "\n",
       "    .dataframe thead th {\n",
       "        text-align: right;\n",
       "    }\n",
       "</style>\n",
       "<table border=\"1\" class=\"dataframe\">\n",
       "  <thead>\n",
       "    <tr style=\"text-align: right;\">\n",
       "      <th></th>\n",
       "      <th>State</th>\n",
       "      <th>Count</th>\n",
       "    </tr>\n",
       "  </thead>\n",
       "  <tbody>\n",
       "    <tr>\n",
       "      <th>0</th>\n",
       "      <td>1</td>\n",
       "      <td>1459</td>\n",
       "    </tr>\n",
       "    <tr>\n",
       "      <th>1</th>\n",
       "      <td>2</td>\n",
       "      <td>107</td>\n",
       "    </tr>\n",
       "    <tr>\n",
       "      <th>2</th>\n",
       "      <td>3</td>\n",
       "      <td>951</td>\n",
       "    </tr>\n",
       "    <tr>\n",
       "      <th>3</th>\n",
       "      <td>4</td>\n",
       "      <td>529</td>\n",
       "    </tr>\n",
       "    <tr>\n",
       "      <th>4</th>\n",
       "      <td>5</td>\n",
       "      <td>3812</td>\n",
       "    </tr>\n",
       "  </tbody>\n",
       "</table>\n",
       "</div>"
      ],
      "text/plain": [
       "   State  Count\n",
       "0      1   1459\n",
       "1      2    107\n",
       "2      3    951\n",
       "3      4    529\n",
       "4      5   3812"
      ]
     },
     "execution_count": 22,
     "metadata": {},
     "output_type": "execute_result"
    }
   ],
   "source": [
    "# group by state and count the number of beneficiaries\n",
    "beneficiaries_by_state = test_beneficiary.groupby('State').size().reset_index(name='Count')\n",
    "beneficiaries_by_state.head()"
   ]
  },
  {
   "cell_type": "markdown",
   "metadata": {},
   "source": [
    "##### There are 54 States in this Dataset."
   ]
  },
  {
   "cell_type": "code",
   "execution_count": 23,
   "metadata": {},
   "outputs": [
    {
     "name": "stderr",
     "output_type": "stream",
     "text": [
      "/var/folders/qk/q0fv26q13m760q3ch0fljs240000gn/T/ipykernel_92036/790916460.py:10: MatplotlibDeprecationWarning: The get_cmap function was deprecated in Matplotlib 3.7 and will be removed in 3.11. Use ``matplotlib.colormaps[name]`` or ``matplotlib.colormaps.get_cmap()`` or ``pyplot.get_cmap()`` instead.\n",
      "  colormap = cm.get_cmap('Blues')  # Choose a gradient colormap\n",
      "/var/folders/qk/q0fv26q13m760q3ch0fljs240000gn/T/ipykernel_92036/790916460.py:14: FutureWarning: \n",
      "\n",
      "Passing `palette` without assigning `hue` is deprecated and will be removed in v0.14.0. Assign the `x` variable to `hue` and set `legend=False` for the same effect.\n",
      "\n",
      "  ax = sns.barplot(\n",
      "/var/folders/qk/q0fv26q13m760q3ch0fljs240000gn/T/ipykernel_92036/790916460.py:14: UserWarning: Numpy array is not a supported type for `palette`. Please convert your palette to a list. This will become an error in v0.14\n",
      "  ax = sns.barplot(\n"
     ]
    },
    {
     "data": {
      "image/png": "[encoded data removed]",
      "text/plain": [
       "<Figure size 1200x800 with 1 Axes>"
      ]
     },
     "metadata": {},
     "output_type": "display_data"
    }
   ],
   "source": [
    "plt.figure(figsize=(12, 8))\n",
    "\n",
    "# sort the data in descending order by 'Count'\n",
    "beneficiaries_by_state_sorted = beneficiaries_by_state.sort_values(by='Count', ascending=False)\n",
    "\n",
    "# normalize the counts to create a gradient effect\n",
    "normalized_counts = beneficiaries_by_state_sorted['Count'] / beneficiaries_by_state_sorted['Count'].max()\n",
    "\n",
    "# use a colormap to generate colors based on normalized counts\n",
    "colormap = cm.get_cmap('Blues')  # Choose a gradient colormap\n",
    "colors = colormap(normalized_counts)\n",
    "\n",
    "# create the bar plot with explicit order for the x-axis\n",
    "ax = sns.barplot(\n",
    "    data=beneficiaries_by_state_sorted,\n",
    "    x='State',\n",
    "    y='Count',\n",
    "    palette=colors,\n",
    "    order=beneficiaries_by_state_sorted['State']\n",
    ")\n",
    "\n",
    "# calculate total number of beneficiaries and mean\n",
    "total_beneficiaries = beneficiaries_by_state_sorted['Count'].sum()\n",
    "mean_beneficiaries = beneficiaries_by_state_sorted['Count'].mean()\n",
    "\n",
    "# add an average line\n",
    "plt.axhline(mean_beneficiaries, color='grey', linestyle='--', linewidth=2, label=f'Mean: {mean_beneficiaries:.0f}')\n",
    "\n",
    "# annotate the value of the mean on the line\n",
    "plt.text(\n",
    "    x=len(beneficiaries_by_state_sorted) - 1,  # Position near the end of the x-axis\n",
    "    y=mean_beneficiaries + 50,  # Slightly above the line for visibility\n",
    "    s=f'Mean: {mean_beneficiaries:.0f}', \n",
    "    color='grey',\n",
    "    fontsize=12,\n",
    "    ha='right'\n",
    ")\n",
    "\n",
    "# set plot title and labels\n",
    "plt.title('Number of Beneficiaries by State', fontsize=16)\n",
    "plt.xlabel('State', fontsize=14)\n",
    "plt.ylabel('Number of Beneficiaries', fontsize=14)\n",
    "\n",
    "# rotate x-axis labels for better readability\n",
    "plt.xticks(rotation=45)\n",
    "\n",
    "# add legend for the average line\n",
    "plt.legend(loc='upper right', fontsize=12)\n",
    "\n",
    "# show the plot\n",
    "plt.tight_layout()\n",
    "plt.show()"
   ]
  },
  {
   "cell_type": "code",
   "execution_count": 24,
   "metadata": {},
   "outputs": [
    {
     "data": {
      "text/html": [
       "<div>\n",
       "<style scoped>\n",
       "    .dataframe tbody tr th:only-of-type {\n",
       "        vertical-align: middle;\n",
       "    }\n",
       "\n",
       "    .dataframe tbody tr th {\n",
       "        vertical-align: top;\n",
       "    }\n",
       "\n",
       "    .dataframe thead th {\n",
       "        text-align: right;\n",
       "    }\n",
       "</style>\n",
       "<table border=\"1\" class=\"dataframe\">\n",
       "  <thead>\n",
       "    <tr style=\"text-align: right;\">\n",
       "      <th></th>\n",
       "      <th>State</th>\n",
       "      <th>Count</th>\n",
       "    </tr>\n",
       "  </thead>\n",
       "  <tbody>\n",
       "    <tr>\n",
       "      <th>count</th>\n",
       "      <td>52.000000</td>\n",
       "      <td>52.000000</td>\n",
       "    </tr>\n",
       "    <tr>\n",
       "      <th>mean</th>\n",
       "      <td>26.865385</td>\n",
       "      <td>1230.153846</td>\n",
       "    </tr>\n",
       "    <tr>\n",
       "      <th>std</th>\n",
       "      <td>15.668163</td>\n",
       "      <td>1217.936384</td>\n",
       "    </tr>\n",
       "    <tr>\n",
       "      <th>min</th>\n",
       "      <td>1.000000</td>\n",
       "      <td>66.000000</td>\n",
       "    </tr>\n",
       "    <tr>\n",
       "      <th>25%</th>\n",
       "      <td>13.750000</td>\n",
       "      <td>390.250000</td>\n",
       "    </tr>\n",
       "    <tr>\n",
       "      <th>50%</th>\n",
       "      <td>26.500000</td>\n",
       "      <td>848.500000</td>\n",
       "    </tr>\n",
       "    <tr>\n",
       "      <th>75%</th>\n",
       "      <td>39.500000</td>\n",
       "      <td>1480.500000</td>\n",
       "    </tr>\n",
       "    <tr>\n",
       "      <th>max</th>\n",
       "      <td>54.000000</td>\n",
       "      <td>5283.000000</td>\n",
       "    </tr>\n",
       "  </tbody>\n",
       "</table>\n",
       "</div>"
      ],
      "text/plain": [
       "           State        Count\n",
       "count  52.000000    52.000000\n",
       "mean   26.865385  1230.153846\n",
       "std    15.668163  1217.936384\n",
       "min     1.000000    66.000000\n",
       "25%    13.750000   390.250000\n",
       "50%    26.500000   848.500000\n",
       "75%    39.500000  1480.500000\n",
       "max    54.000000  5283.000000"
      ]
     },
     "execution_count": 24,
     "metadata": {},
     "output_type": "execute_result"
    }
   ],
   "source": [
    "beneficiaries_by_state.describe()"
   ]
  },
  {
   "cell_type": "markdown",
   "metadata": {},
   "source": [
    "#### Beneficiaries by County."
   ]
  },
  {
   "cell_type": "code",
   "execution_count": 25,
   "metadata": {},
   "outputs": [
    {
     "data": {
      "text/html": [
       "<div>\n",
       "<style scoped>\n",
       "    .dataframe tbody tr th:only-of-type {\n",
       "        vertical-align: middle;\n",
       "    }\n",
       "\n",
       "    .dataframe tbody tr th {\n",
       "        vertical-align: top;\n",
       "    }\n",
       "\n",
       "    .dataframe thead th {\n",
       "        text-align: right;\n",
       "    }\n",
       "</style>\n",
       "<table border=\"1\" class=\"dataframe\">\n",
       "  <thead>\n",
       "    <tr style=\"text-align: right;\">\n",
       "      <th></th>\n",
       "      <th>County</th>\n",
       "      <th>Count</th>\n",
       "    </tr>\n",
       "  </thead>\n",
       "  <tbody>\n",
       "    <tr>\n",
       "      <th>0</th>\n",
       "      <td>0</td>\n",
       "      <td>1447</td>\n",
       "    </tr>\n",
       "    <tr>\n",
       "      <th>1</th>\n",
       "      <td>1</td>\n",
       "      <td>1</td>\n",
       "    </tr>\n",
       "    <tr>\n",
       "      <th>2</th>\n",
       "      <td>10</td>\n",
       "      <td>1710</td>\n",
       "    </tr>\n",
       "    <tr>\n",
       "      <th>3</th>\n",
       "      <td>11</td>\n",
       "      <td>10</td>\n",
       "    </tr>\n",
       "    <tr>\n",
       "      <th>4</th>\n",
       "      <td>14</td>\n",
       "      <td>1</td>\n",
       "    </tr>\n",
       "  </tbody>\n",
       "</table>\n",
       "</div>"
      ],
      "text/plain": [
       "   County  Count\n",
       "0       0   1447\n",
       "1       1      1\n",
       "2      10   1710\n",
       "3      11     10\n",
       "4      14      1"
      ]
     },
     "execution_count": 25,
     "metadata": {},
     "output_type": "execute_result"
    }
   ],
   "source": [
    "# group by county and count the number of beneficiaries\n",
    "beneficiaries_by_county = test_beneficiary.groupby('County').size().reset_index(name='Count')\n",
    "beneficiaries_by_county.head()"
   ]
  },
  {
   "cell_type": "code",
   "execution_count": 26,
   "metadata": {},
   "outputs": [
    {
     "data": {
      "text/html": [
       "<div>\n",
       "<style scoped>\n",
       "    .dataframe tbody tr th:only-of-type {\n",
       "        vertical-align: middle;\n",
       "    }\n",
       "\n",
       "    .dataframe tbody tr th {\n",
       "        vertical-align: top;\n",
       "    }\n",
       "\n",
       "    .dataframe thead th {\n",
       "        text-align: right;\n",
       "    }\n",
       "</style>\n",
       "<table border=\"1\" class=\"dataframe\">\n",
       "  <thead>\n",
       "    <tr style=\"text-align: right;\">\n",
       "      <th></th>\n",
       "      <th>County</th>\n",
       "      <th>Count</th>\n",
       "    </tr>\n",
       "  </thead>\n",
       "  <tbody>\n",
       "    <tr>\n",
       "      <th>count</th>\n",
       "      <td>285.000000</td>\n",
       "      <td>285.000000</td>\n",
       "    </tr>\n",
       "    <tr>\n",
       "      <th>mean</th>\n",
       "      <td>609.238596</td>\n",
       "      <td>224.449123</td>\n",
       "    </tr>\n",
       "    <tr>\n",
       "      <th>std</th>\n",
       "      <td>295.477662</td>\n",
       "      <td>373.731830</td>\n",
       "    </tr>\n",
       "    <tr>\n",
       "      <th>min</th>\n",
       "      <td>0.000000</td>\n",
       "      <td>1.000000</td>\n",
       "    </tr>\n",
       "    <tr>\n",
       "      <th>25%</th>\n",
       "      <td>360.000000</td>\n",
       "      <td>5.000000</td>\n",
       "    </tr>\n",
       "    <tr>\n",
       "      <th>50%</th>\n",
       "      <td>670.000000</td>\n",
       "      <td>17.000000</td>\n",
       "    </tr>\n",
       "    <tr>\n",
       "      <th>75%</th>\n",
       "      <td>874.000000</td>\n",
       "      <td>323.000000</td>\n",
       "    </tr>\n",
       "    <tr>\n",
       "      <th>max</th>\n",
       "      <td>999.000000</td>\n",
       "      <td>1710.000000</td>\n",
       "    </tr>\n",
       "  </tbody>\n",
       "</table>\n",
       "</div>"
      ],
      "text/plain": [
       "           County        Count\n",
       "count  285.000000   285.000000\n",
       "mean   609.238596   224.449123\n",
       "std    295.477662   373.731830\n",
       "min      0.000000     1.000000\n",
       "25%    360.000000     5.000000\n",
       "50%    670.000000    17.000000\n",
       "75%    874.000000   323.000000\n",
       "max    999.000000  1710.000000"
      ]
     },
     "execution_count": 26,
     "metadata": {},
     "output_type": "execute_result"
    }
   ],
   "source": [
    "beneficiaries_by_county.describe()"
   ]
  },
  {
   "cell_type": "markdown",
   "metadata": {},
   "source": [
    "##### There are 999 Counties in this Dataset."
   ]
  },
  {
   "cell_type": "markdown",
   "metadata": {},
   "source": [
    "##### I'am interested in analyzing more populous counties, to focus on larger data that can provide more meaningful trends.\n",
    "##### I am going to filter counties with ≥323 beneficiaries, as they are part of the top 25% of counties by population of beneficiaries."
   ]
  },
  {
   "cell_type": "code",
   "execution_count": 27,
   "metadata": {},
   "outputs": [
    {
     "data": {
      "text/html": [
       "<div>\n",
       "<style scoped>\n",
       "    .dataframe tbody tr th:only-of-type {\n",
       "        vertical-align: middle;\n",
       "    }\n",
       "\n",
       "    .dataframe tbody tr th {\n",
       "        vertical-align: top;\n",
       "    }\n",
       "\n",
       "    .dataframe thead th {\n",
       "        text-align: right;\n",
       "    }\n",
       "</style>\n",
       "<table border=\"1\" class=\"dataframe\">\n",
       "  <thead>\n",
       "    <tr style=\"text-align: right;\">\n",
       "      <th></th>\n",
       "      <th>County</th>\n",
       "      <th>Count</th>\n",
       "    </tr>\n",
       "  </thead>\n",
       "  <tbody>\n",
       "    <tr>\n",
       "      <th>0</th>\n",
       "      <td>0</td>\n",
       "      <td>1447</td>\n",
       "    </tr>\n",
       "    <tr>\n",
       "      <th>2</th>\n",
       "      <td>10</td>\n",
       "      <td>1710</td>\n",
       "    </tr>\n",
       "    <tr>\n",
       "      <th>5</th>\n",
       "      <td>20</td>\n",
       "      <td>1577</td>\n",
       "    </tr>\n",
       "    <tr>\n",
       "      <th>7</th>\n",
       "      <td>30</td>\n",
       "      <td>822</td>\n",
       "    </tr>\n",
       "    <tr>\n",
       "      <th>9</th>\n",
       "      <td>40</td>\n",
       "      <td>1262</td>\n",
       "    </tr>\n",
       "  </tbody>\n",
       "</table>\n",
       "</div>"
      ],
      "text/plain": [
       "   County  Count\n",
       "0       0   1447\n",
       "2      10   1710\n",
       "5      20   1577\n",
       "7      30    822\n",
       "9      40   1262"
      ]
     },
     "execution_count": 27,
     "metadata": {},
     "output_type": "execute_result"
    }
   ],
   "source": [
    "# filter counties where the count of beneficiaries is >= 323\n",
    "filtered_beneficiaries_by_county = beneficiaries_by_county[beneficiaries_by_county['Count'] >= 323]\n",
    "\n",
    "filtered_beneficiaries_by_county.head()"
   ]
  },
  {
   "cell_type": "code",
   "execution_count": 28,
   "metadata": {},
   "outputs": [
    {
     "name": "stderr",
     "output_type": "stream",
     "text": [
      "/var/folders/qk/q0fv26q13m760q3ch0fljs240000gn/T/ipykernel_92036/483173258.py:10: MatplotlibDeprecationWarning: The get_cmap function was deprecated in Matplotlib 3.7 and will be removed in 3.11. Use ``matplotlib.colormaps[name]`` or ``matplotlib.colormaps.get_cmap()`` or ``pyplot.get_cmap()`` instead.\n",
      "  colormap = cm.get_cmap('Blues')  # Choose a gradient colormap\n",
      "/var/folders/qk/q0fv26q13m760q3ch0fljs240000gn/T/ipykernel_92036/483173258.py:14: FutureWarning: \n",
      "\n",
      "Passing `palette` without assigning `hue` is deprecated and will be removed in v0.14.0. Assign the `x` variable to `hue` and set `legend=False` for the same effect.\n",
      "\n",
      "  ax = sns.barplot(\n",
      "/var/folders/qk/q0fv26q13m760q3ch0fljs240000gn/T/ipykernel_92036/483173258.py:14: UserWarning: Numpy array is not a supported type for `palette`. Please convert your palette to a list. This will become an error in v0.14\n",
      "  ax = sns.barplot(\n"
     ]
    },
    {
     "data": {
      "image/png": "[encoded data removed]",
      "text/plain": [
       "<Figure size 1200x800 with 1 Axes>"
      ]
     },
     "metadata": {},
     "output_type": "display_data"
    }
   ],
   "source": [
    "plt.figure(figsize=(12, 8))\n",
    "\n",
    "# sort the data in descending order by 'Count'\n",
    "beneficiaries_by_county_sorted = filtered_beneficiaries_by_county.sort_values(by='Count', ascending=False)\n",
    "\n",
    "# normalize the counts to create a gradient effect\n",
    "normalized_counts = beneficiaries_by_county_sorted['Count'] / beneficiaries_by_county_sorted['Count'].max()\n",
    "\n",
    "# use a colormap to generate colors based on normalized counts\n",
    "colormap = cm.get_cmap('Blues')  # Choose a gradient colormap\n",
    "colors = colormap(normalized_counts)\n",
    "\n",
    "# create the bar plot with explicit order for the x-axis\n",
    "ax = sns.barplot(\n",
    "    data=beneficiaries_by_county_sorted,\n",
    "    x='County',\n",
    "    y='Count',\n",
    "    palette=colors,\n",
    "    order=beneficiaries_by_county_sorted['County']\n",
    ")\n",
    "\n",
    "# calculate total number of beneficiaries and mean\n",
    "total_beneficiaries = beneficiaries_by_county_sorted['Count'].sum()\n",
    "mean_beneficiaries = beneficiaries_by_county_sorted['Count'].mean()\n",
    "\n",
    "# add an average line\n",
    "plt.axhline(mean_beneficiaries, color='grey', linestyle='--', linewidth=2, label=f'Mean: {mean_beneficiaries:.0f}')\n",
    "\n",
    "# annotate the value of the mean on the line\n",
    "plt.text(\n",
    "    x=len(beneficiaries_by_county_sorted) - 1,  # Position near the end of the x-axis\n",
    "    y=mean_beneficiaries + 50,  # Slightly above the line for visibility\n",
    "    s=f'Mean: {mean_beneficiaries:.0f}', \n",
    "    color='grey',\n",
    "    fontsize=12,\n",
    "    ha='right'\n",
    ")\n",
    "\n",
    "# set plot title and labels\n",
    "plt.title('Number of Beneficiaries by County', fontsize=16)\n",
    "plt.xlabel('County', fontsize=14)\n",
    "plt.ylabel('Number of Beneficiaries', fontsize=14)\n",
    "\n",
    "# rotate x-axis labels for better readability\n",
    "plt.xticks(rotation=45)\n",
    "\n",
    "# add legend for the average line\n",
    "plt.legend(loc='upper right', fontsize=12)\n",
    "\n",
    "# show the plot\n",
    "plt.tight_layout()\n",
    "plt.show()"
   ]
  },
  {
   "cell_type": "markdown",
   "metadata": {},
   "source": [
    "##### Beneficiaries by Chronic Condition."
   ]
  },
  {
   "cell_type": "code",
   "execution_count": 29,
   "metadata": {},
   "outputs": [
    {
     "data": {
      "image/png": "[encoded data removed]",
      "text/plain": [
       "<Figure size 1000x600 with 1 Axes>"
      ]
     },
     "metadata": {},
     "output_type": "display_data"
    }
   ],
   "source": [
    "# Aggregate by summing each chronic condition\n",
    "aggregated_data = test_beneficiary[['ChronicCond_Alzheimer', 'ChronicCond_Heartfailure', 'ChronicCond_KidneyDisease',\n",
    "                                    'ChronicCond_Cancer', 'ChronicCond_ObstrPulmonary', 'ChronicCond_Depression',\n",
    "                                    'ChronicCond_Diabetes', 'ChronicCond_IschemicHeart', 'ChronicCond_Osteoporasis',\n",
    "                                    'ChronicCond_rheumatoidarthritis', 'ChronicCond_stroke']].sum()\n",
    "\n",
    "# Sort the aggregated data in descending order\n",
    "aggregated_data_sorted = aggregated_data.sort_values(ascending=False)\n",
    "\n",
    "# Create a bar plot with a gradient of blues (from dark to light)\n",
    "plt.figure(figsize=(10, 6))\n",
    "\n",
    "# Generate a colormap of blues with a gradient from dark to light\n",
    "cmap = plt.cm.Blues\n",
    "norm = plt.Normalize(vmin=min(aggregated_data_sorted.values), vmax=max(aggregated_data_sorted.values))\n",
    "colors = [cmap(norm(value)) for value in aggregated_data_sorted.values]\n",
    "\n",
    "bars = plt.bar(aggregated_data_sorted.index, aggregated_data_sorted.values, color=colors)\n",
    "\n",
    "# Renaming x-axis labels by removing 'ChronicCond_' prefix\n",
    "new_labels = [label.replace('ChronicCond_', '') for label in aggregated_data_sorted.index]\n",
    "plt.xticks(ticks=range(len(new_labels)), labels=new_labels, rotation=45)\n",
    "\n",
    "# Adding labels and title\n",
    "plt.xlabel('Chronic Conditions')\n",
    "plt.ylabel('Number of Beneficiaries')\n",
    "plt.title('Chronic Conditions Aggregated by Beneficiaries')\n",
    "\n",
    "plt.tight_layout()\n",
    "\n",
    "# Show the plot\n",
    "plt.show()\n"
   ]
  },
  {
   "cell_type": "markdown",
   "metadata": {},
   "source": [
    "##### IP Annual Deductible Amount vs Anual Reimbursement Amounts."
   ]
  },
  {
   "cell_type": "code",
   "execution_count": null,
   "metadata": {},
   "outputs": [
    {
     "name": "stderr",
     "output_type": "stream",
     "text": [
      "/var/folders/qk/q0fv26q13m760q3ch0fljs240000gn/T/ipykernel_92036/4122335979.py:27: UserWarning: Creating legend with loc=\"best\" can be slow with large amounts of data.\n",
      "  plt.tight_layout()\n"
     ]
    }
   ],
   "source": [
    "# Aggregate by BeneID, summing the deductible and reimbursement amounts\n",
    "IP_aggregated_data = test_beneficiary.groupby('BeneID')[['IPAnnualDeductibleAmt', 'IPAnnualReimbursementAmt']].sum()\n",
    "\n",
    "# Plotting\n",
    "plt.figure(figsize=(12, 6))\n",
    "\n",
    "# Plotting both IPAnnualDeductibleAmt and IPAnnualReimbursementAmt\n",
    "bar_width = 0.35  # Width of the bars\n",
    "index = range(len(IP_aggregated_data))\n",
    "\n",
    "# Create bars for Deductible Amount and Reimbursement Amount\n",
    "plt.bar(index, IP_aggregated_data['IPAnnualDeductibleAmt'], bar_width, color='blue', label='Deductible Amount')\n",
    "plt.bar([i + bar_width for i in index], IP_aggregated_data['IPAnnualReimbursementAmt'], bar_width, color='yellow', label='Reimbursement Amount')\n",
    "\n",
    "# Add labels and title\n",
    "plt.xlabel('Beneficiaries (BeneID)', fontsize=12)\n",
    "plt.ylabel('Amount', fontsize=12)\n",
    "plt.title('Comparison of Deductible and Reimbursement Amounts by IP', fontsize=14)\n",
    "\n",
    "# Set x-axis ticks\n",
    "plt.xticks([i + bar_width / 2 for i in index], aggregated_data.index, rotation=90)\n",
    "\n",
    "# Adding legend\n",
    "plt.legend()\n",
    "\n",
    "# Improve layout\n",
    "plt.tight_layout()\n",
    "\n",
    "# Show plot\n",
    "plt.show()"
   ]
  },
  {
   "cell_type": "markdown",
   "metadata": {},
   "source": [
    "##### OP Annual Deductible Amount vs Anual Reimbursement Amounts."
   ]
  },
  {
   "cell_type": "code",
   "execution_count": null,
   "metadata": {},
   "outputs": [],
   "source": [
    "# Aggregate by BeneID, summing the deductible and reimbursement amounts\n",
    "OP_aggregated_data = test_beneficiary.groupby('BeneID')[['OPAnnualDeductibleAmt', 'OPAnnualReimbursementAmt']].sum()\n",
    "\n",
    "# Plotting\n",
    "plt.figure(figsize=(12, 6))\n",
    "\n",
    "# Plotting both IPAnnualDeductibleAmt and IPAnnualReimbursementAmt\n",
    "bar_width = 0.35  # Width of the bars\n",
    "index = range(len(OP_aggregated_data))\n",
    "\n",
    "# Create bars for Deductible Amount and Reimbursement Amount\n",
    "plt.bar(index, OP_aggregated_data['OPAnnualDeductibleAmt'], bar_width, color='blue', label='Deductible Amount')\n",
    "plt.bar([i + bar_width for i in index], OP_aggregated_data['OPAnnualReimbursementAmt'], bar_width, color='yellow', label='Reimbursement Amount')\n",
    "\n",
    "# Add labels and title\n",
    "plt.xlabel('Beneficiaries (BeneID)', fontsize=12)\n",
    "plt.ylabel('Amount', fontsize=12)\n",
    "plt.title('Comparison of Deductible and Reimbursement Amounts by OP', fontsize=14)\n",
    "\n",
    "# Set x-axis ticks\n",
    "plt.xticks([i + bar_width / 2 for i in index], aggregated_data.index, rotation=90)\n",
    "\n",
    "# Adding legend\n",
    "plt.legend()\n",
    "\n",
    "# Improve layout\n",
    "plt.tight_layout()\n",
    "\n",
    "# Show plot\n",
    "plt.show()"
   ]
  },
  {
   "cell_type": "markdown",
   "metadata": {},
   "source": [
    "***"
   ]
  },
  {
   "cell_type": "markdown",
   "metadata": {},
   "source": [
    "##### Annual reinbursement for IP and OP beneficiaries analysis."
   ]
  },
  {
   "cell_type": "code",
   "execution_count": null,
   "metadata": {},
   "outputs": [
    {
     "data": {
      "text/plain": [
       "count     63968.000000\n",
       "mean       4557.559561\n",
       "std       10741.954472\n",
       "min       -1000.000000\n",
       "25%           0.000000\n",
       "50%           0.000000\n",
       "75%        5000.000000\n",
       "max      155600.000000\n",
       "Name: IPAnnualReimbursementAmt, dtype: float64"
      ]
     },
     "execution_count": 625,
     "metadata": {},
     "output_type": "execute_result"
    }
   ],
   "source": [
    "# check statistics to investigate the existence of outliers for IP Patients.\n",
    "test_beneficiary['IPAnnualReimbursementAmt'].describe()"
   ]
  },
  {
   "cell_type": "code",
   "execution_count": null,
   "metadata": {},
   "outputs": [
    {
     "data": {
      "text/plain": [
       "count    63968.000000\n",
       "mean      1664.710324\n",
       "std       3010.045357\n",
       "min        -60.000000\n",
       "25%        290.000000\n",
       "50%        800.000000\n",
       "75%       1960.000000\n",
       "max      97510.000000\n",
       "Name: OPAnnualReimbursementAmt, dtype: float64"
      ]
     },
     "execution_count": 626,
     "metadata": {},
     "output_type": "execute_result"
    }
   ],
   "source": [
    "# check statistics to investigate the existence of outliers for OP Patients.\n",
    "test_beneficiary['OPAnnualReimbursementAmt'].describe()"
   ]
  },
  {
   "cell_type": "code",
   "execution_count": null,
   "metadata": {},
   "outputs": [
    {
     "data": {
      "image/png": "[encoded data removed]",
      "text/plain": [
       "<Figure size 1000x600 with 1 Axes>"
      ]
     },
     "metadata": {},
     "output_type": "display_data"
    }
   ],
   "source": [
    "# create the scatter plot\n",
    "plt.figure(figsize=(10, 6))\n",
    "sns.scatterplot(x=test_beneficiary.index, y=test_beneficiary['IPAnnualReimbursementAmt'], color='blue')\n",
    "\n",
    "# highlight the patient who died at the age of 37\n",
    "patient_155600 = test_beneficiary[test_beneficiary['IPAnnualReimbursementAmt'] == 155600]\n",
    "plt.scatter(patient_155600.index, patient_155600['IPAnnualReimbursementAmt'], color='red', label='Patient max. Reimbursement')\n",
    "\n",
    "# title and labels\n",
    "plt.title('Scatter Plot of IP Patient Reimbursement', fontsize=14)\n",
    "plt.xlabel('Patient Index', fontsize=12)\n",
    "plt.ylabel('Annual Reimbursement', fontsize=12)\n",
    "\n",
    "# show the legend\n",
    "plt.legend()\n",
    "\n",
    "# display the plot\n",
    "plt.show()"
   ]
  },
  {
   "cell_type": "code",
   "execution_count": null,
   "metadata": {},
   "outputs": [
    {
     "data": {
      "image/png": "[encoded data removed]",
      "text/plain": [
       "<Figure size 1000x600 with 1 Axes>"
      ]
     },
     "metadata": {},
     "output_type": "display_data"
    }
   ],
   "source": [
    "# create the scatter plot\n",
    "plt.figure(figsize=(10, 6))\n",
    "sns.scatterplot(x=test_beneficiary.index, y=test_beneficiary['OPAnnualReimbursementAmt'], color='blue')\n",
    "\n",
    "# highlight the patient who died at the age of 37\n",
    "patient_155600 = test_beneficiary[test_beneficiary['OPAnnualReimbursementAmt'] == 155600]\n",
    "plt.scatter(patient_155600.index, patient_155600['OPAnnualReimbursementAmt'], color='red', label='Patient max. Reimbursement')\n",
    "\n",
    "# title and labels\n",
    "plt.title('Scatter Plot of OP Patient Reimbursement', fontsize=14)\n",
    "plt.xlabel('Patient Index', fontsize=12)\n",
    "plt.ylabel('Annual Reimbursement', fontsize=12)\n",
    "\n",
    "# show the legend\n",
    "plt.legend()\n",
    "\n",
    "# display the plot\n",
    "plt.show()"
   ]
  },
  {
   "cell_type": "markdown",
   "metadata": {},
   "source": [
    "##### 🚩 Conclusion: We can see some pattern outside the average behavior of patients on reimbursements received which may indicate fraud movements."
   ]
  },
  {
   "cell_type": "markdown",
   "metadata": {},
   "source": [
    "##### Both OP and IP Patients have negative amounts. For the purpose of the analysis we will clean the dataset not taking into consideration the negative values with a clean dataset."
   ]
  },
  {
   "cell_type": "code",
   "execution_count": null,
   "metadata": {},
   "outputs": [
    {
     "name": "stdout",
     "output_type": "stream",
     "text": [
      "Number of IP beneficiaries with negative reimbursements: 9\n"
     ]
    }
   ],
   "source": [
    "# filter IP beneficiaries with negative reimbursement amounts\n",
    "IP_negative_reimbursements = test_beneficiary[test_beneficiary['IPAnnualReimbursementAmt'] < 0]\n",
    "\n",
    "# count the number of IP beneficiaries with negative reimbursements\n",
    "IP_count_negative_reimbursements = IP_negative_reimbursements['BeneID'].nunique()\n",
    "\n",
    "print(f\"Number of IP beneficiaries with negative reimbursements: {IP_count_negative_reimbursements}\")"
   ]
  },
  {
   "cell_type": "code",
   "execution_count": null,
   "metadata": {},
   "outputs": [
    {
     "data": {
      "text/html": [
       "<div>\n",
       "<style scoped>\n",
       "    .dataframe tbody tr th:only-of-type {\n",
       "        vertical-align: middle;\n",
       "    }\n",
       "\n",
       "    .dataframe tbody tr th {\n",
       "        vertical-align: top;\n",
       "    }\n",
       "\n",
       "    .dataframe thead th {\n",
       "        text-align: right;\n",
       "    }\n",
       "</style>\n",
       "<table border=\"1\" class=\"dataframe\">\n",
       "  <thead>\n",
       "    <tr style=\"text-align: right;\">\n",
       "      <th></th>\n",
       "      <th>BeneID</th>\n",
       "      <th>DOB</th>\n",
       "      <th>DOD</th>\n",
       "      <th>Gender</th>\n",
       "      <th>Race</th>\n",
       "      <th>RenalDiseaseIndicator</th>\n",
       "      <th>State</th>\n",
       "      <th>County</th>\n",
       "      <th>NoOfMonths_PartACov</th>\n",
       "      <th>NoOfMonths_PartBCov</th>\n",
       "      <th>...</th>\n",
       "      <th>ChronicCond_IschemicHeart</th>\n",
       "      <th>ChronicCond_Osteoporasis</th>\n",
       "      <th>ChronicCond_rheumatoidarthritis</th>\n",
       "      <th>ChronicCond_stroke</th>\n",
       "      <th>IPAnnualReimbursementAmt</th>\n",
       "      <th>IPAnnualDeductibleAmt</th>\n",
       "      <th>OPAnnualReimbursementAmt</th>\n",
       "      <th>OPAnnualDeductibleAmt</th>\n",
       "      <th>Year</th>\n",
       "      <th>Age_at_death</th>\n",
       "    </tr>\n",
       "  </thead>\n",
       "  <tbody>\n",
       "    <tr>\n",
       "      <th>3752</th>\n",
       "      <td>BENE19571</td>\n",
       "      <td>1938-07-01</td>\n",
       "      <td>NaT</td>\n",
       "      <td>2</td>\n",
       "      <td>1</td>\n",
       "      <td>0</td>\n",
       "      <td>32</td>\n",
       "      <td>230</td>\n",
       "      <td>12</td>\n",
       "      <td>12</td>\n",
       "      <td>...</td>\n",
       "      <td>1</td>\n",
       "      <td>2</td>\n",
       "      <td>2</td>\n",
       "      <td>2</td>\n",
       "      <td>-300</td>\n",
       "      <td>1068</td>\n",
       "      <td>4720</td>\n",
       "      <td>770</td>\n",
       "      <td>1938</td>\n",
       "      <td>NaN</td>\n",
       "    </tr>\n",
       "    <tr>\n",
       "      <th>7051</th>\n",
       "      <td>BENE27231</td>\n",
       "      <td>1935-02-01</td>\n",
       "      <td>NaT</td>\n",
       "      <td>1</td>\n",
       "      <td>1</td>\n",
       "      <td>0</td>\n",
       "      <td>42</td>\n",
       "      <td>250</td>\n",
       "      <td>12</td>\n",
       "      <td>12</td>\n",
       "      <td>...</td>\n",
       "      <td>1</td>\n",
       "      <td>1</td>\n",
       "      <td>2</td>\n",
       "      <td>2</td>\n",
       "      <td>-100</td>\n",
       "      <td>1068</td>\n",
       "      <td>1220</td>\n",
       "      <td>770</td>\n",
       "      <td>1935</td>\n",
       "      <td>NaN</td>\n",
       "    </tr>\n",
       "    <tr>\n",
       "      <th>14343</th>\n",
       "      <td>BENE44298</td>\n",
       "      <td>1929-02-01</td>\n",
       "      <td>NaT</td>\n",
       "      <td>2</td>\n",
       "      <td>2</td>\n",
       "      <td>0</td>\n",
       "      <td>1</td>\n",
       "      <td>510</td>\n",
       "      <td>12</td>\n",
       "      <td>12</td>\n",
       "      <td>...</td>\n",
       "      <td>1</td>\n",
       "      <td>2</td>\n",
       "      <td>2</td>\n",
       "      <td>2</td>\n",
       "      <td>-300</td>\n",
       "      <td>1068</td>\n",
       "      <td>2430</td>\n",
       "      <td>200</td>\n",
       "      <td>1929</td>\n",
       "      <td>NaN</td>\n",
       "    </tr>\n",
       "    <tr>\n",
       "      <th>18972</th>\n",
       "      <td>BENE54894</td>\n",
       "      <td>1926-04-01</td>\n",
       "      <td>NaT</td>\n",
       "      <td>2</td>\n",
       "      <td>1</td>\n",
       "      <td>0</td>\n",
       "      <td>14</td>\n",
       "      <td>141</td>\n",
       "      <td>12</td>\n",
       "      <td>12</td>\n",
       "      <td>...</td>\n",
       "      <td>2</td>\n",
       "      <td>2</td>\n",
       "      <td>2</td>\n",
       "      <td>2</td>\n",
       "      <td>-1000</td>\n",
       "      <td>1068</td>\n",
       "      <td>100</td>\n",
       "      <td>10</td>\n",
       "      <td>1926</td>\n",
       "      <td>NaN</td>\n",
       "    </tr>\n",
       "    <tr>\n",
       "      <th>32276</th>\n",
       "      <td>BENE85807</td>\n",
       "      <td>1972-12-01</td>\n",
       "      <td>NaT</td>\n",
       "      <td>1</td>\n",
       "      <td>1</td>\n",
       "      <td>0</td>\n",
       "      <td>44</td>\n",
       "      <td>60</td>\n",
       "      <td>12</td>\n",
       "      <td>12</td>\n",
       "      <td>...</td>\n",
       "      <td>1</td>\n",
       "      <td>2</td>\n",
       "      <td>2</td>\n",
       "      <td>2</td>\n",
       "      <td>-40</td>\n",
       "      <td>1068</td>\n",
       "      <td>170</td>\n",
       "      <td>110</td>\n",
       "      <td>1972</td>\n",
       "      <td>NaN</td>\n",
       "    </tr>\n",
       "    <tr>\n",
       "      <th>39800</th>\n",
       "      <td>BENE103244</td>\n",
       "      <td>1925-10-01</td>\n",
       "      <td>NaT</td>\n",
       "      <td>2</td>\n",
       "      <td>1</td>\n",
       "      <td>0</td>\n",
       "      <td>5</td>\n",
       "      <td>370</td>\n",
       "      <td>12</td>\n",
       "      <td>12</td>\n",
       "      <td>...</td>\n",
       "      <td>2</td>\n",
       "      <td>1</td>\n",
       "      <td>2</td>\n",
       "      <td>2</td>\n",
       "      <td>-800</td>\n",
       "      <td>1068</td>\n",
       "      <td>90</td>\n",
       "      <td>0</td>\n",
       "      <td>1925</td>\n",
       "      <td>NaN</td>\n",
       "    </tr>\n",
       "    <tr>\n",
       "      <th>39941</th>\n",
       "      <td>BENE103563</td>\n",
       "      <td>1934-07-01</td>\n",
       "      <td>NaT</td>\n",
       "      <td>1</td>\n",
       "      <td>1</td>\n",
       "      <td>0</td>\n",
       "      <td>45</td>\n",
       "      <td>810</td>\n",
       "      <td>12</td>\n",
       "      <td>12</td>\n",
       "      <td>...</td>\n",
       "      <td>1</td>\n",
       "      <td>1</td>\n",
       "      <td>2</td>\n",
       "      <td>2</td>\n",
       "      <td>-10</td>\n",
       "      <td>1068</td>\n",
       "      <td>480</td>\n",
       "      <td>200</td>\n",
       "      <td>1934</td>\n",
       "      <td>NaN</td>\n",
       "    </tr>\n",
       "    <tr>\n",
       "      <th>40656</th>\n",
       "      <td>BENE105279</td>\n",
       "      <td>1931-11-01</td>\n",
       "      <td>NaT</td>\n",
       "      <td>2</td>\n",
       "      <td>1</td>\n",
       "      <td>0</td>\n",
       "      <td>34</td>\n",
       "      <td>800</td>\n",
       "      <td>12</td>\n",
       "      <td>12</td>\n",
       "      <td>...</td>\n",
       "      <td>2</td>\n",
       "      <td>2</td>\n",
       "      <td>2</td>\n",
       "      <td>2</td>\n",
       "      <td>-200</td>\n",
       "      <td>1068</td>\n",
       "      <td>1420</td>\n",
       "      <td>840</td>\n",
       "      <td>1931</td>\n",
       "      <td>NaN</td>\n",
       "    </tr>\n",
       "    <tr>\n",
       "      <th>43065</th>\n",
       "      <td>BENE110853</td>\n",
       "      <td>1913-06-01</td>\n",
       "      <td>NaT</td>\n",
       "      <td>2</td>\n",
       "      <td>3</td>\n",
       "      <td>0</td>\n",
       "      <td>5</td>\n",
       "      <td>650</td>\n",
       "      <td>12</td>\n",
       "      <td>12</td>\n",
       "      <td>...</td>\n",
       "      <td>1</td>\n",
       "      <td>2</td>\n",
       "      <td>2</td>\n",
       "      <td>2</td>\n",
       "      <td>-200</td>\n",
       "      <td>1068</td>\n",
       "      <td>420</td>\n",
       "      <td>100</td>\n",
       "      <td>1913</td>\n",
       "      <td>NaN</td>\n",
       "    </tr>\n",
       "  </tbody>\n",
       "</table>\n",
       "<p>9 rows × 27 columns</p>\n",
       "</div>"
      ],
      "text/plain": [
       "           BeneID        DOB DOD  Gender  Race RenalDiseaseIndicator  State  \\\n",
       "3752    BENE19571 1938-07-01 NaT       2     1                     0     32   \n",
       "7051    BENE27231 1935-02-01 NaT       1     1                     0     42   \n",
       "14343   BENE44298 1929-02-01 NaT       2     2                     0      1   \n",
       "18972   BENE54894 1926-04-01 NaT       2     1                     0     14   \n",
       "32276   BENE85807 1972-12-01 NaT       1     1                     0     44   \n",
       "39800  BENE103244 1925-10-01 NaT       2     1                     0      5   \n",
       "39941  BENE103563 1934-07-01 NaT       1     1                     0     45   \n",
       "40656  BENE105279 1931-11-01 NaT       2     1                     0     34   \n",
       "43065  BENE110853 1913-06-01 NaT       2     3                     0      5   \n",
       "\n",
       "       County  NoOfMonths_PartACov  NoOfMonths_PartBCov  ...  \\\n",
       "3752      230                   12                   12  ...   \n",
       "7051      250                   12                   12  ...   \n",
       "14343     510                   12                   12  ...   \n",
       "18972     141                   12                   12  ...   \n",
       "32276      60                   12                   12  ...   \n",
       "39800     370                   12                   12  ...   \n",
       "39941     810                   12                   12  ...   \n",
       "40656     800                   12                   12  ...   \n",
       "43065     650                   12                   12  ...   \n",
       "\n",
       "       ChronicCond_IschemicHeart  ChronicCond_Osteoporasis  \\\n",
       "3752                           1                         2   \n",
       "7051                           1                         1   \n",
       "14343                          1                         2   \n",
       "18972                          2                         2   \n",
       "32276                          1                         2   \n",
       "39800                          2                         1   \n",
       "39941                          1                         1   \n",
       "40656                          2                         2   \n",
       "43065                          1                         2   \n",
       "\n",
       "       ChronicCond_rheumatoidarthritis  ChronicCond_stroke  \\\n",
       "3752                                 2                   2   \n",
       "7051                                 2                   2   \n",
       "14343                                2                   2   \n",
       "18972                                2                   2   \n",
       "32276                                2                   2   \n",
       "39800                                2                   2   \n",
       "39941                                2                   2   \n",
       "40656                                2                   2   \n",
       "43065                                2                   2   \n",
       "\n",
       "       IPAnnualReimbursementAmt  IPAnnualDeductibleAmt  \\\n",
       "3752                       -300                   1068   \n",
       "7051                       -100                   1068   \n",
       "14343                      -300                   1068   \n",
       "18972                     -1000                   1068   \n",
       "32276                       -40                   1068   \n",
       "39800                      -800                   1068   \n",
       "39941                       -10                   1068   \n",
       "40656                      -200                   1068   \n",
       "43065                      -200                   1068   \n",
       "\n",
       "       OPAnnualReimbursementAmt  OPAnnualDeductibleAmt  Year  Age_at_death  \n",
       "3752                       4720                    770  1938           NaN  \n",
       "7051                       1220                    770  1935           NaN  \n",
       "14343                      2430                    200  1929           NaN  \n",
       "18972                       100                     10  1926           NaN  \n",
       "32276                       170                    110  1972           NaN  \n",
       "39800                        90                      0  1925           NaN  \n",
       "39941                       480                    200  1934           NaN  \n",
       "40656                      1420                    840  1931           NaN  \n",
       "43065                       420                    100  1913           NaN  \n",
       "\n",
       "[9 rows x 27 columns]"
      ]
     },
     "execution_count": 630,
     "metadata": {},
     "output_type": "execute_result"
    }
   ],
   "source": [
    "IP_negative_reimbursements"
   ]
  },
  {
   "cell_type": "code",
   "execution_count": null,
   "metadata": {},
   "outputs": [
    {
     "name": "stdout",
     "output_type": "stream",
     "text": [
      "Number of OP beneficiaries with negative reimbursements: 2\n"
     ]
    }
   ],
   "source": [
    "# filter OP beneficiaries with negative reimbursement amounts\n",
    "OP_negative_reimbursements = test_beneficiary[test_beneficiary['OPAnnualReimbursementAmt'] < 0]\n",
    "\n",
    "# count the number of OP beneficiaries with negative reimbursements\n",
    "OP_count_negative_reimbursements = OP_negative_reimbursements['BeneID'].nunique()\n",
    "\n",
    "print(f\"Number of OP beneficiaries with negative reimbursements: {OP_count_negative_reimbursements}\")"
   ]
  },
  {
   "cell_type": "code",
   "execution_count": null,
   "metadata": {},
   "outputs": [
    {
     "data": {
      "text/html": [
       "<div>\n",
       "<style scoped>\n",
       "    .dataframe tbody tr th:only-of-type {\n",
       "        vertical-align: middle;\n",
       "    }\n",
       "\n",
       "    .dataframe tbody tr th {\n",
       "        vertical-align: top;\n",
       "    }\n",
       "\n",
       "    .dataframe thead th {\n",
       "        text-align: right;\n",
       "    }\n",
       "</style>\n",
       "<table border=\"1\" class=\"dataframe\">\n",
       "  <thead>\n",
       "    <tr style=\"text-align: right;\">\n",
       "      <th></th>\n",
       "      <th>BeneID</th>\n",
       "      <th>DOB</th>\n",
       "      <th>DOD</th>\n",
       "      <th>Gender</th>\n",
       "      <th>Race</th>\n",
       "      <th>RenalDiseaseIndicator</th>\n",
       "      <th>State</th>\n",
       "      <th>County</th>\n",
       "      <th>NoOfMonths_PartACov</th>\n",
       "      <th>NoOfMonths_PartBCov</th>\n",
       "      <th>...</th>\n",
       "      <th>ChronicCond_IschemicHeart</th>\n",
       "      <th>ChronicCond_Osteoporasis</th>\n",
       "      <th>ChronicCond_rheumatoidarthritis</th>\n",
       "      <th>ChronicCond_stroke</th>\n",
       "      <th>IPAnnualReimbursementAmt</th>\n",
       "      <th>IPAnnualDeductibleAmt</th>\n",
       "      <th>OPAnnualReimbursementAmt</th>\n",
       "      <th>OPAnnualDeductibleAmt</th>\n",
       "      <th>Year</th>\n",
       "      <th>Age_at_death</th>\n",
       "    </tr>\n",
       "  </thead>\n",
       "  <tbody>\n",
       "    <tr>\n",
       "      <th>41108</th>\n",
       "      <td>BENE106343</td>\n",
       "      <td>1929-06-01</td>\n",
       "      <td>NaT</td>\n",
       "      <td>1</td>\n",
       "      <td>1</td>\n",
       "      <td>Y</td>\n",
       "      <td>50</td>\n",
       "      <td>50</td>\n",
       "      <td>12</td>\n",
       "      <td>12</td>\n",
       "      <td>...</td>\n",
       "      <td>1</td>\n",
       "      <td>1</td>\n",
       "      <td>2</td>\n",
       "      <td>2</td>\n",
       "      <td>25000</td>\n",
       "      <td>3204</td>\n",
       "      <td>-60</td>\n",
       "      <td>10</td>\n",
       "      <td>1929</td>\n",
       "      <td>NaN</td>\n",
       "    </tr>\n",
       "    <tr>\n",
       "      <th>62866</th>\n",
       "      <td>BENE156652</td>\n",
       "      <td>1914-03-01</td>\n",
       "      <td>NaT</td>\n",
       "      <td>1</td>\n",
       "      <td>1</td>\n",
       "      <td>0</td>\n",
       "      <td>21</td>\n",
       "      <td>150</td>\n",
       "      <td>12</td>\n",
       "      <td>12</td>\n",
       "      <td>...</td>\n",
       "      <td>1</td>\n",
       "      <td>2</td>\n",
       "      <td>2</td>\n",
       "      <td>2</td>\n",
       "      <td>3000</td>\n",
       "      <td>1068</td>\n",
       "      <td>-50</td>\n",
       "      <td>20</td>\n",
       "      <td>1914</td>\n",
       "      <td>NaN</td>\n",
       "    </tr>\n",
       "  </tbody>\n",
       "</table>\n",
       "<p>2 rows × 27 columns</p>\n",
       "</div>"
      ],
      "text/plain": [
       "           BeneID        DOB DOD  Gender  Race RenalDiseaseIndicator  State  \\\n",
       "41108  BENE106343 1929-06-01 NaT       1     1                     Y     50   \n",
       "62866  BENE156652 1914-03-01 NaT       1     1                     0     21   \n",
       "\n",
       "       County  NoOfMonths_PartACov  NoOfMonths_PartBCov  ...  \\\n",
       "41108      50                   12                   12  ...   \n",
       "62866     150                   12                   12  ...   \n",
       "\n",
       "       ChronicCond_IschemicHeart  ChronicCond_Osteoporasis  \\\n",
       "41108                          1                         1   \n",
       "62866                          1                         2   \n",
       "\n",
       "       ChronicCond_rheumatoidarthritis  ChronicCond_stroke  \\\n",
       "41108                                2                   2   \n",
       "62866                                2                   2   \n",
       "\n",
       "       IPAnnualReimbursementAmt  IPAnnualDeductibleAmt  \\\n",
       "41108                     25000                   3204   \n",
       "62866                      3000                   1068   \n",
       "\n",
       "       OPAnnualReimbursementAmt  OPAnnualDeductibleAmt  Year  Age_at_death  \n",
       "41108                       -60                     10  1929           NaN  \n",
       "62866                       -50                     20  1914           NaN  \n",
       "\n",
       "[2 rows x 27 columns]"
      ]
     },
     "execution_count": 632,
     "metadata": {},
     "output_type": "execute_result"
    }
   ],
   "source": [
    "OP_negative_reimbursements"
   ]
  },
  {
   "cell_type": "code",
   "execution_count": null,
   "metadata": {},
   "outputs": [
    {
     "name": "stdout",
     "output_type": "stream",
     "text": [
      "Therer are 0 beneficiaries in both datasets.\n"
     ]
    }
   ],
   "source": [
    "# check if there are beneficiaries on both datasets.\n",
    "common_beneficiaries = set(OP_negative_reimbursements['BeneID']) & set(IP_negative_reimbursements['BeneID'])\n",
    "print(f\"Therer are {len(common_beneficiaries)} beneficiaries in both datasets{', '.join(map(str, common_beneficiaries))}.\")\n"
   ]
  },
  {
   "cell_type": "markdown",
   "metadata": {},
   "source": [
    "##### Clean the test_beneficiary dataset removing the negative amounts from the reimbursements and saving the clean dataset."
   ]
  },
  {
   "cell_type": "code",
   "execution_count": null,
   "metadata": {},
   "outputs": [],
   "source": [
    "# filter out rows with negative values in the specified columns\n",
    "cleaned_test_beneficiary = test_beneficiary[\n",
    "    (test_beneficiary['IPAnnualReimbursementAmt'] >= 0) & \n",
    "    (test_beneficiary['OPAnnualReimbursementAmt'] >= 0)\n",
    "]\n",
    "\n",
    "# save the cleaned DataFrame to a new CSV file\n",
    "cleaned_test_beneficiary.to_csv(\"cleaned_test_beneficiary.csv\", index=False)"
   ]
  },
  {
   "cell_type": "code",
   "execution_count": null,
   "metadata": {},
   "outputs": [
    {
     "data": {
      "text/plain": [
       "count     63957.000000\n",
       "mean       4557.951749\n",
       "std       10742.415308\n",
       "min           0.000000\n",
       "25%           0.000000\n",
       "50%           0.000000\n",
       "75%        5000.000000\n",
       "max      155600.000000\n",
       "Name: IPAnnualReimbursementAmt, dtype: float64"
      ]
     },
     "execution_count": 635,
     "metadata": {},
     "output_type": "execute_result"
    }
   ],
   "source": [
    "# check to see if it is clean of the negative values.\n",
    "cleaned_test_beneficiary['IPAnnualReimbursementAmt'].describe()"
   ]
  },
  {
   "cell_type": "markdown",
   "metadata": {},
   "source": [
    "##### Next are same steps but for the Out Patient dataset."
   ]
  },
  {
   "cell_type": "code",
   "execution_count": null,
   "metadata": {},
   "outputs": [
    {
     "data": {
      "text/plain": [
       "count    63957.000000\n",
       "mean      1664.825586\n",
       "std       3010.236134\n",
       "min          0.000000\n",
       "25%        290.000000\n",
       "50%        800.000000\n",
       "75%       1960.000000\n",
       "max      97510.000000\n",
       "Name: OPAnnualReimbursementAmt, dtype: float64"
      ]
     },
     "execution_count": 636,
     "metadata": {},
     "output_type": "execute_result"
    }
   ],
   "source": [
    "# check if the data set is clean of negative values.\n",
    "cleaned_test_beneficiary['OPAnnualReimbursementAmt'].describe()"
   ]
  },
  {
   "cell_type": "markdown",
   "metadata": {},
   "source": [
    "##### 🚩 Conclusion: The beneficiaries who may seem outliers are actually not outliers as they may identify fraudulent movement."
   ]
  },
  {
   "cell_type": "markdown",
   "metadata": {},
   "source": [
    "***"
   ]
  },
  {
   "cell_type": "markdown",
   "metadata": {},
   "source": [
    "#### Patients who were admitted in the hospital."
   ]
  },
  {
   "cell_type": "code",
   "execution_count": null,
   "metadata": {},
   "outputs": [
    {
     "data": {
      "text/html": [
       "<div>\n",
       "<style scoped>\n",
       "    .dataframe tbody tr th:only-of-type {\n",
       "        vertical-align: middle;\n",
       "    }\n",
       "\n",
       "    .dataframe tbody tr th {\n",
       "        vertical-align: top;\n",
       "    }\n",
       "\n",
       "    .dataframe thead th {\n",
       "        text-align: right;\n",
       "    }\n",
       "</style>\n",
       "<table border=\"1\" class=\"dataframe\">\n",
       "  <thead>\n",
       "    <tr style=\"text-align: right;\">\n",
       "      <th></th>\n",
       "      <th>BeneID</th>\n",
       "      <th>ClaimID</th>\n",
       "      <th>ClaimStartDt</th>\n",
       "      <th>ClaimEndDt</th>\n",
       "      <th>Provider</th>\n",
       "      <th>InscClaimAmtReimbursed</th>\n",
       "      <th>AttendingPhysician</th>\n",
       "      <th>OperatingPhysician</th>\n",
       "      <th>OtherPhysician</th>\n",
       "      <th>AdmissionDt</th>\n",
       "      <th>...</th>\n",
       "      <th>ClmDiagnosisCode_7</th>\n",
       "      <th>ClmDiagnosisCode_8</th>\n",
       "      <th>ClmDiagnosisCode_9</th>\n",
       "      <th>ClmDiagnosisCode_10</th>\n",
       "      <th>ClmProcedureCode_1</th>\n",
       "      <th>ClmProcedureCode_2</th>\n",
       "      <th>ClmProcedureCode_3</th>\n",
       "      <th>ClmProcedureCode_4</th>\n",
       "      <th>ClmProcedureCode_5</th>\n",
       "      <th>ClmProcedureCode_6</th>\n",
       "    </tr>\n",
       "  </thead>\n",
       "  <tbody>\n",
       "    <tr>\n",
       "      <th>0</th>\n",
       "      <td>BENE11014</td>\n",
       "      <td>CLM67387</td>\n",
       "      <td>2009-09-09</td>\n",
       "      <td>2009-09-16</td>\n",
       "      <td>PRV57070</td>\n",
       "      <td>9000</td>\n",
       "      <td>PHY317786</td>\n",
       "      <td>PHY427017</td>\n",
       "      <td>NaN</td>\n",
       "      <td>2009-09-09</td>\n",
       "      <td>...</td>\n",
       "      <td>5990</td>\n",
       "      <td>570</td>\n",
       "      <td>41071</td>\n",
       "      <td>4280</td>\n",
       "      <td>4443.0</td>\n",
       "      <td>5849.0</td>\n",
       "      <td>NaN</td>\n",
       "      <td>NaN</td>\n",
       "      <td>NaN</td>\n",
       "      <td>NaN</td>\n",
       "    </tr>\n",
       "    <tr>\n",
       "      <th>1</th>\n",
       "      <td>BENE11017</td>\n",
       "      <td>CLM31237</td>\n",
       "      <td>2008-12-25</td>\n",
       "      <td>2009-01-08</td>\n",
       "      <td>PRV54750</td>\n",
       "      <td>14000</td>\n",
       "      <td>PHY314656</td>\n",
       "      <td>PHY426644</td>\n",
       "      <td>NaN</td>\n",
       "      <td>2008-12-25</td>\n",
       "      <td>...</td>\n",
       "      <td>4549</td>\n",
       "      <td>29570</td>\n",
       "      <td>34831</td>\n",
       "      <td>NaN</td>\n",
       "      <td>5551.0</td>\n",
       "      <td>NaN</td>\n",
       "      <td>NaN</td>\n",
       "      <td>NaN</td>\n",
       "      <td>NaN</td>\n",
       "      <td>NaN</td>\n",
       "    </tr>\n",
       "    <tr>\n",
       "      <th>2</th>\n",
       "      <td>BENE11026</td>\n",
       "      <td>CLM78930</td>\n",
       "      <td>2009-12-09</td>\n",
       "      <td>2009-12-13</td>\n",
       "      <td>PRV53758</td>\n",
       "      <td>2000</td>\n",
       "      <td>PHY349495</td>\n",
       "      <td>NaN</td>\n",
       "      <td>NaN</td>\n",
       "      <td>2009-12-09</td>\n",
       "      <td>...</td>\n",
       "      <td>78650</td>\n",
       "      <td>7813</td>\n",
       "      <td>4254</td>\n",
       "      <td>NaN</td>\n",
       "      <td>NaN</td>\n",
       "      <td>NaN</td>\n",
       "      <td>NaN</td>\n",
       "      <td>NaN</td>\n",
       "      <td>NaN</td>\n",
       "      <td>NaN</td>\n",
       "    </tr>\n",
       "    <tr>\n",
       "      <th>3</th>\n",
       "      <td>BENE11031</td>\n",
       "      <td>CLM56810</td>\n",
       "      <td>2009-06-23</td>\n",
       "      <td>2009-07-06</td>\n",
       "      <td>PRV55825</td>\n",
       "      <td>16000</td>\n",
       "      <td>PHY429538</td>\n",
       "      <td>PHY371893</td>\n",
       "      <td>NaN</td>\n",
       "      <td>2009-06-23</td>\n",
       "      <td>...</td>\n",
       "      <td>4254</td>\n",
       "      <td>41400</td>\n",
       "      <td>5849</td>\n",
       "      <td>41401</td>\n",
       "      <td>8152.0</td>\n",
       "      <td>3320.0</td>\n",
       "      <td>NaN</td>\n",
       "      <td>NaN</td>\n",
       "      <td>NaN</td>\n",
       "      <td>NaN</td>\n",
       "    </tr>\n",
       "    <tr>\n",
       "      <th>4</th>\n",
       "      <td>BENE11085</td>\n",
       "      <td>CLM34625</td>\n",
       "      <td>2009-01-20</td>\n",
       "      <td>2009-01-31</td>\n",
       "      <td>PRV52338</td>\n",
       "      <td>19000</td>\n",
       "      <td>PHY397161</td>\n",
       "      <td>NaN</td>\n",
       "      <td>NaN</td>\n",
       "      <td>2009-01-20</td>\n",
       "      <td>...</td>\n",
       "      <td>V6109</td>\n",
       "      <td>7242</td>\n",
       "      <td>NaN</td>\n",
       "      <td>NaN</td>\n",
       "      <td>NaN</td>\n",
       "      <td>NaN</td>\n",
       "      <td>NaN</td>\n",
       "      <td>NaN</td>\n",
       "      <td>NaN</td>\n",
       "      <td>NaN</td>\n",
       "    </tr>\n",
       "  </tbody>\n",
       "</table>\n",
       "<p>5 rows × 30 columns</p>\n",
       "</div>"
      ],
      "text/plain": [
       "      BeneID   ClaimID ClaimStartDt  ClaimEndDt  Provider  \\\n",
       "0  BENE11014  CLM67387   2009-09-09  2009-09-16  PRV57070   \n",
       "1  BENE11017  CLM31237   2008-12-25  2009-01-08  PRV54750   \n",
       "2  BENE11026  CLM78930   2009-12-09  2009-12-13  PRV53758   \n",
       "3  BENE11031  CLM56810   2009-06-23  2009-07-06  PRV55825   \n",
       "4  BENE11085  CLM34625   2009-01-20  2009-01-31  PRV52338   \n",
       "\n",
       "   InscClaimAmtReimbursed AttendingPhysician OperatingPhysician  \\\n",
       "0                    9000          PHY317786          PHY427017   \n",
       "1                   14000          PHY314656          PHY426644   \n",
       "2                    2000          PHY349495                NaN   \n",
       "3                   16000          PHY429538          PHY371893   \n",
       "4                   19000          PHY397161                NaN   \n",
       "\n",
       "  OtherPhysician AdmissionDt  ... ClmDiagnosisCode_7  ClmDiagnosisCode_8  \\\n",
       "0            NaN  2009-09-09  ...               5990                 570   \n",
       "1            NaN  2008-12-25  ...               4549               29570   \n",
       "2            NaN  2009-12-09  ...              78650                7813   \n",
       "3            NaN  2009-06-23  ...               4254               41400   \n",
       "4            NaN  2009-01-20  ...              V6109                7242   \n",
       "\n",
       "  ClmDiagnosisCode_9 ClmDiagnosisCode_10 ClmProcedureCode_1  \\\n",
       "0              41071                4280             4443.0   \n",
       "1              34831                 NaN             5551.0   \n",
       "2               4254                 NaN                NaN   \n",
       "3               5849               41401             8152.0   \n",
       "4                NaN                 NaN                NaN   \n",
       "\n",
       "  ClmProcedureCode_2 ClmProcedureCode_3 ClmProcedureCode_4 ClmProcedureCode_5  \\\n",
       "0             5849.0                NaN                NaN                NaN   \n",
       "1                NaN                NaN                NaN                NaN   \n",
       "2                NaN                NaN                NaN                NaN   \n",
       "3             3320.0                NaN                NaN                NaN   \n",
       "4                NaN                NaN                NaN                NaN   \n",
       "\n",
       "  ClmProcedureCode_6  \n",
       "0                NaN  \n",
       "1                NaN  \n",
       "2                NaN  \n",
       "3                NaN  \n",
       "4                NaN  \n",
       "\n",
       "[5 rows x 30 columns]"
      ]
     },
     "execution_count": 637,
     "metadata": {},
     "output_type": "execute_result"
    }
   ],
   "source": [
    "test_inpatient.head()"
   ]
  },
  {
   "cell_type": "code",
   "execution_count": null,
   "metadata": {},
   "outputs": [
    {
     "name": "stdout",
     "output_type": "stream",
     "text": [
      "<class 'pandas.core.frame.DataFrame'>\n",
      "RangeIndex: 9551 entries, 0 to 9550\n",
      "Data columns (total 30 columns):\n",
      " #   Column                  Non-Null Count  Dtype  \n",
      "---  ------                  --------------  -----  \n",
      " 0   BeneID                  9551 non-null   object \n",
      " 1   ClaimID                 9551 non-null   object \n",
      " 2   ClaimStartDt            9551 non-null   object \n",
      " 3   ClaimEndDt              9551 non-null   object \n",
      " 4   Provider                9551 non-null   object \n",
      " 5   InscClaimAmtReimbursed  9551 non-null   int64  \n",
      " 6   AttendingPhysician      9520 non-null   object \n",
      " 7   OperatingPhysician      5589 non-null   object \n",
      " 8   OtherPhysician          1013 non-null   object \n",
      " 9   AdmissionDt             9551 non-null   object \n",
      " 10  ClmAdmitDiagnosisCode   9551 non-null   object \n",
      " 11  DeductibleAmtPaid       9355 non-null   float64\n",
      " 12  DischargeDt             9551 non-null   object \n",
      " 13  DiagnosisGroupCode      9551 non-null   object \n",
      " 14  ClmDiagnosisCode_1      9551 non-null   object \n",
      " 15  ClmDiagnosisCode_2      9497 non-null   object \n",
      " 16  ClmDiagnosisCode_3      9382 non-null   object \n",
      " 17  ClmDiagnosisCode_4      9147 non-null   object \n",
      " 18  ClmDiagnosisCode_5      8832 non-null   object \n",
      " 19  ClmDiagnosisCode_6      8354 non-null   object \n",
      " 20  ClmDiagnosisCode_7      7815 non-null   object \n",
      " 21  ClmDiagnosisCode_8      7191 non-null   object \n",
      " 22  ClmDiagnosisCode_9      6313 non-null   object \n",
      " 23  ClmDiagnosisCode_10     887 non-null    object \n",
      " 24  ClmProcedureCode_1      5433 non-null   float64\n",
      " 25  ClmProcedureCode_2      1254 non-null   float64\n",
      " 26  ClmProcedureCode_3      223 non-null    float64\n",
      " 27  ClmProcedureCode_4      29 non-null     float64\n",
      " 28  ClmProcedureCode_5      2 non-null      float64\n",
      " 29  ClmProcedureCode_6      0 non-null      float64\n",
      "dtypes: float64(7), int64(1), object(22)\n",
      "memory usage: 2.2+ MB\n"
     ]
    }
   ],
   "source": [
    "test_inpatient.info()"
   ]
  },
  {
   "cell_type": "code",
   "execution_count": null,
   "metadata": {},
   "outputs": [
    {
     "data": {
      "text/plain": [
       "count      9551.000000\n",
       "mean      10105.306251\n",
       "std       10316.862711\n",
       "min           0.000000\n",
       "25%        4000.000000\n",
       "50%        7000.000000\n",
       "75%       12000.000000\n",
       "max      125000.000000\n",
       "Name: InscClaimAmtReimbursed, dtype: float64"
      ]
     },
     "execution_count": 639,
     "metadata": {},
     "output_type": "execute_result"
    }
   ],
   "source": [
    "test_inpatient['InscClaimAmtReimbursed'].describe()"
   ]
  },
  {
   "cell_type": "code",
   "execution_count": null,
   "metadata": {},
   "outputs": [
    {
     "name": "stdout",
     "output_type": "stream",
     "text": [
      "There are 0 duplicate Claims.\n"
     ]
    }
   ],
   "source": [
    "# checking for duplicates on claims column.\n",
    "# display duplicated claims in the column.\n",
    "print(f\"There are {test_inpatient['ClaimID'].duplicated().sum()} duplicate Claims.\")"
   ]
  },
  {
   "cell_type": "code",
   "execution_count": null,
   "metadata": {},
   "outputs": [
    {
     "name": "stdout",
     "output_type": "stream",
     "text": [
      "520\n"
     ]
    }
   ],
   "source": [
    "# check unique Providers.\n",
    "print(test_inpatient['Provider'].nunique())"
   ]
  },
  {
   "cell_type": "code",
   "execution_count": null,
   "metadata": {},
   "outputs": [
    {
     "name": "stdout",
     "output_type": "stream",
     "text": [
      "There are 0 beneficiaries who filed 0 claims after they were deceased.\n"
     ]
    }
   ],
   "source": [
    "# join both tables on BeneID\n",
    "merged_df = pd.merge(test_beneficiary, test_inpatient, on='BeneID', how='inner')\n",
    "\n",
    "# ensure the DOD and ClaimsStartDt columns are in datetime format\n",
    "merged_df['DOD'] = pd.to_datetime(merged_df['DOD'], errors='coerce')\n",
    "merged_df['ClaimStartDt'] = pd.to_datetime(merged_df['ClaimStartDt'], errors='coerce')\n",
    "merged_df['ClaimEndDt'] = pd.to_datetime(merged_df['ClaimEndDt'], errors='coerce')\n",
    "merged_df['AdmissionDt'] = pd.to_datetime(merged_df['AdmissionDt'], errors='coerce')\n",
    "merged_df['DischargeDt'] = pd.to_datetime(merged_df['DischargeDt'], errors='coerce')\n",
    "\n",
    "# filter beneficiaries where ClaimsStartDt is later than DOD\n",
    "claims_after_dod = merged_df[merged_df['ClaimStartDt'] > merged_df['DOD']]\n",
    "\n",
    "# count the number of unique beneficiaries and total claims\n",
    "num_beneficiaries = claims_after_dod['BeneID'].nunique()  # Count unique beneficiaries\n",
    "num_claims = claims_after_dod.shape[0]  # Total number of claims\n",
    "\n",
    "# print the result\n",
    "print(f\"There are {num_beneficiaries} beneficiaries who filed {num_claims} claims after they were deceased.\")"
   ]
  },
  {
   "cell_type": "markdown",
   "metadata": {},
   "source": [
    "#### There are no Beneficiaries who filed claims after they died."
   ]
  },
  {
   "cell_type": "code",
   "execution_count": null,
   "metadata": {},
   "outputs": [
    {
     "name": "stdout",
     "output_type": "stream",
     "text": [
      "There are 0 beneficiaries who ended their claims after they were deceased.\n"
     ]
    }
   ],
   "source": [
    "ended_claims_after_dod = merged_df[merged_df['ClaimEndDt'] > merged_df['DOD']]\n",
    "\n",
    "num_beneficiaries = ended_claims_after_dod['BeneID'].nunique()\n",
    "\n",
    "print(f\"There are {num_beneficiaries} beneficiaries who ended their claims after they were deceased.\")"
   ]
  },
  {
   "cell_type": "markdown",
   "metadata": {},
   "source": [
    "#### There are no Beneficiaries who ended their claims after they died."
   ]
  },
  {
   "cell_type": "code",
   "execution_count": null,
   "metadata": {},
   "outputs": [
    {
     "name": "stdout",
     "output_type": "stream",
     "text": [
      "There are 0 beneficiaries who were admitted after they were deceased.\n"
     ]
    }
   ],
   "source": [
    "admissions_after_dod = merged_df[merged_df['AdmissionDt'] > merged_df['DOD']]\n",
    "\n",
    "num_beneficiaries = admissions_after_dod['BeneID'].nunique()\n",
    "\n",
    "print(f\"There are {num_beneficiaries} beneficiaries who were admitted after they were deceased.\")"
   ]
  },
  {
   "cell_type": "markdown",
   "metadata": {},
   "source": [
    "#### There are no Beneficiaries who were admitted after they died."
   ]
  },
  {
   "cell_type": "code",
   "execution_count": null,
   "metadata": {},
   "outputs": [
    {
     "name": "stdout",
     "output_type": "stream",
     "text": [
      "There are 0 beneficiaries who were discharged after they were deceased.\n"
     ]
    }
   ],
   "source": [
    "discharged_after_dod = merged_df[merged_df['DischargeDt'] > merged_df['DOD']]\n",
    "\n",
    "num_beneficiaries = discharged_after_dod['BeneID'].nunique()\n",
    "\n",
    "print(f\"There are {num_beneficiaries} beneficiaries who were discharged after they were deceased.\")"
   ]
  },
  {
   "cell_type": "markdown",
   "metadata": {},
   "source": [
    "#### There are no Beneficiaries who were discharged after they died."
   ]
  },
  {
   "cell_type": "code",
   "execution_count": null,
   "metadata": {},
   "outputs": [
    {
     "name": "stdout",
     "output_type": "stream",
     "text": [
      "Number of beneficiaries who received a service but had 0 reimbursement: 253\n"
     ]
    }
   ],
   "source": [
    "# Filter beneficiaries who have a non-null DischargeDt and InsClaimAmtReimbursed equal to 0\n",
    "filtered_beneficiaries = test_inpatient[(test_inpatient['DischargeDt'].notnull()) & (test_inpatient['InscClaimAmtReimbursed'] == 0)]\n",
    "\n",
    "# Count the number of unique BeneID values that meet the condition\n",
    "filtered_beneficiaries_count = filtered_beneficiaries['BeneID'].nunique()\n",
    "\n",
    "# Print the result\n",
    "print(f\"Number of beneficiaries who received a service but had 0 reimbursement: {filtered_beneficiaries_count}\")"
   ]
  },
  {
   "cell_type": "code",
   "execution_count": null,
   "metadata": {},
   "outputs": [
    {
     "name": "stdout",
     "output_type": "stream",
     "text": [
      "Number of beneficiaries who received a service but paid 0 deductible amount for the service: 0\n"
     ]
    }
   ],
   "source": [
    "# Filter beneficiaries who have a non-null DischargeDt and InsClaimAmtReimbursed equal to 0\n",
    "filtered_beneficiaries = test_inpatient[(test_inpatient['DischargeDt'].notnull()) & (test_inpatient['DeductibleAmtPaid'] == 0)]\n",
    "\n",
    "# Count the number of unique BeneID values that meet the condition\n",
    "filtered_beneficiaries_count = filtered_beneficiaries['BeneID'].nunique()\n",
    "\n",
    "# Print the result\n",
    "print(f\"Number of beneficiaries who received a service but paid 0 deductible amount for the service: {filtered_beneficiaries_count}\")"
   ]
  },
  {
   "cell_type": "code",
   "execution_count": null,
   "metadata": {},
   "outputs": [
    {
     "name": "stdout",
     "output_type": "stream",
     "text": [
      "Number of beneficiaries who received a service but had 0 reimbursement and paid the deductable amount for the service: 0\n"
     ]
    }
   ],
   "source": [
    "# Filter beneficiaries who have a non-null DischargeDt and InsClaimAmtReimbursed equal to 0\n",
    "filtered_beneficiaries = test_inpatient[(test_inpatient['DischargeDt'].notnull()) & (test_inpatient['InscClaimAmtReimbursed'] == 0) & (test_inpatient['DeductibleAmtPaid'] == 0)]\n",
    "\n",
    "# Count the number of unique BeneID values that meet the condition\n",
    "filtered_beneficiaries_count = filtered_beneficiaries['BeneID'].nunique()\n",
    "\n",
    "# Print the result\n",
    "print(f\"Number of beneficiaries who received a service but had 0 reimbursement and paid the deductable amount for the service: {filtered_beneficiaries_count}\")"
   ]
  },
  {
   "cell_type": "code",
   "execution_count": null,
   "metadata": {},
   "outputs": [
    {
     "name": "stdout",
     "output_type": "stream",
     "text": [
      "Number of beneficiaries who received a service but had 0 reimbursement and paid the deductable amount for the service: 247\n"
     ]
    }
   ],
   "source": [
    "# Filter beneficiaries who have a non-null DischargeDt and InsClaimAmtReimbursed equal to 0\n",
    "filtered_beneficiaries = test_inpatient[(test_inpatient['DischargeDt'].notnull()) & (test_inpatient['InscClaimAmtReimbursed'] == 0) & (test_inpatient['DeductibleAmtPaid'] > 0)]\n",
    "\n",
    "# Count the number of unique BeneID values that meet the condition\n",
    "filtered_beneficiaries_count = filtered_beneficiaries['BeneID'].nunique()\n",
    "\n",
    "# Print the result\n",
    "print(f\"Number of beneficiaries who received a service but had 0 reimbursement and paid the deductable amount for the service: {filtered_beneficiaries_count}\")"
   ]
  },
  {
   "cell_type": "code",
   "execution_count": null,
   "metadata": {},
   "outputs": [
    {
     "data": {
      "text/html": [
       "<div>\n",
       "<style scoped>\n",
       "    .dataframe tbody tr th:only-of-type {\n",
       "        vertical-align: middle;\n",
       "    }\n",
       "\n",
       "    .dataframe tbody tr th {\n",
       "        vertical-align: top;\n",
       "    }\n",
       "\n",
       "    .dataframe thead th {\n",
       "        text-align: right;\n",
       "    }\n",
       "</style>\n",
       "<table border=\"1\" class=\"dataframe\">\n",
       "  <thead>\n",
       "    <tr style=\"text-align: right;\">\n",
       "      <th></th>\n",
       "      <th>BeneficiaryCount</th>\n",
       "    </tr>\n",
       "  </thead>\n",
       "  <tbody>\n",
       "    <tr>\n",
       "      <th>count</th>\n",
       "      <td>712.000000</td>\n",
       "    </tr>\n",
       "    <tr>\n",
       "      <th>mean</th>\n",
       "      <td>13.403090</td>\n",
       "    </tr>\n",
       "    <tr>\n",
       "      <th>std</th>\n",
       "      <td>10.131159</td>\n",
       "    </tr>\n",
       "    <tr>\n",
       "      <th>min</th>\n",
       "      <td>1.000000</td>\n",
       "    </tr>\n",
       "    <tr>\n",
       "      <th>25%</th>\n",
       "      <td>6.000000</td>\n",
       "    </tr>\n",
       "    <tr>\n",
       "      <th>50%</th>\n",
       "      <td>11.000000</td>\n",
       "    </tr>\n",
       "    <tr>\n",
       "      <th>75%</th>\n",
       "      <td>18.000000</td>\n",
       "    </tr>\n",
       "    <tr>\n",
       "      <th>max</th>\n",
       "      <td>51.000000</td>\n",
       "    </tr>\n",
       "  </tbody>\n",
       "</table>\n",
       "</div>"
      ],
      "text/plain": [
       "       BeneficiaryCount\n",
       "count        712.000000\n",
       "mean          13.403090\n",
       "std           10.131159\n",
       "min            1.000000\n",
       "25%            6.000000\n",
       "50%           11.000000\n",
       "75%           18.000000\n",
       "max           51.000000"
      ]
     },
     "execution_count": 693,
     "metadata": {},
     "output_type": "execute_result"
    }
   ],
   "source": [
    "# Group by 'ClmAdmitDiagnosisCode' and count the number of unique 'BeneID' for each diagnosis code\n",
    "in_grouped_by_diagnosis = test_inpatient.groupby('DiagnosisGroupCode')['BeneID'].nunique().reset_index(name='BeneficiaryCount')\n",
    "\n",
    "# Print the result\n",
    "in_grouped_by_diagnosis.describe()"
   ]
  },
  {
   "cell_type": "code",
   "execution_count": null,
   "metadata": {},
   "outputs": [
    {
     "data": {
      "image/png": "[encoded data removed]",
      "text/plain": [
       "<Figure size 1000x600 with 1 Axes>"
      ]
     },
     "metadata": {},
     "output_type": "display_data"
    }
   ],
   "source": [
    "# Plot a histogram of the BeneficiaryCount\n",
    "plt.figure(figsize=(10, 6))\n",
    "plt.hist(in_grouped_by_diagnosis['BeneficiaryCount'], bins=30, edgecolor='black', color='skyblue')\n",
    "plt.title('Distribution of In Patients Count by Diagnosis Code')\n",
    "plt.xlabel('Number of Beneficiaries')\n",
    "plt.ylabel('Frequency')\n",
    "plt.show()"
   ]
  },
  {
   "cell_type": "markdown",
   "metadata": {},
   "source": [
    "***"
   ]
  },
  {
   "cell_type": "markdown",
   "metadata": {},
   "source": [
    "#### Patients who visited the hospital but were not admited in the hospital."
   ]
  },
  {
   "cell_type": "code",
   "execution_count": null,
   "metadata": {},
   "outputs": [
    {
     "data": {
      "text/html": [
       "<div>\n",
       "<style scoped>\n",
       "    .dataframe tbody tr th:only-of-type {\n",
       "        vertical-align: middle;\n",
       "    }\n",
       "\n",
       "    .dataframe tbody tr th {\n",
       "        vertical-align: top;\n",
       "    }\n",
       "\n",
       "    .dataframe thead th {\n",
       "        text-align: right;\n",
       "    }\n",
       "</style>\n",
       "<table border=\"1\" class=\"dataframe\">\n",
       "  <thead>\n",
       "    <tr style=\"text-align: right;\">\n",
       "      <th></th>\n",
       "      <th>BeneID</th>\n",
       "      <th>ClaimID</th>\n",
       "      <th>ClaimStartDt</th>\n",
       "      <th>ClaimEndDt</th>\n",
       "      <th>Provider</th>\n",
       "      <th>InscClaimAmtReimbursed</th>\n",
       "      <th>AttendingPhysician</th>\n",
       "      <th>OperatingPhysician</th>\n",
       "      <th>OtherPhysician</th>\n",
       "      <th>ClmDiagnosisCode_1</th>\n",
       "      <th>...</th>\n",
       "      <th>ClmDiagnosisCode_9</th>\n",
       "      <th>ClmDiagnosisCode_10</th>\n",
       "      <th>ClmProcedureCode_1</th>\n",
       "      <th>ClmProcedureCode_2</th>\n",
       "      <th>ClmProcedureCode_3</th>\n",
       "      <th>ClmProcedureCode_4</th>\n",
       "      <th>ClmProcedureCode_5</th>\n",
       "      <th>ClmProcedureCode_6</th>\n",
       "      <th>DeductibleAmtPaid</th>\n",
       "      <th>ClmAdmitDiagnosisCode</th>\n",
       "    </tr>\n",
       "  </thead>\n",
       "  <tbody>\n",
       "    <tr>\n",
       "      <th>0</th>\n",
       "      <td>BENE11001</td>\n",
       "      <td>CLM392397</td>\n",
       "      <td>2009-06-02</td>\n",
       "      <td>2009-06-02</td>\n",
       "      <td>PRV55962</td>\n",
       "      <td>30</td>\n",
       "      <td>PHY347633</td>\n",
       "      <td>NaN</td>\n",
       "      <td>PHY347633</td>\n",
       "      <td>V5832</td>\n",
       "      <td>...</td>\n",
       "      <td>NaN</td>\n",
       "      <td>NaN</td>\n",
       "      <td>NaN</td>\n",
       "      <td>NaN</td>\n",
       "      <td>NaN</td>\n",
       "      <td>NaN</td>\n",
       "      <td>NaN</td>\n",
       "      <td>NaN</td>\n",
       "      <td>0</td>\n",
       "      <td>NaN</td>\n",
       "    </tr>\n",
       "    <tr>\n",
       "      <th>1</th>\n",
       "      <td>BENE11001</td>\n",
       "      <td>CLM430760</td>\n",
       "      <td>2009-06-23</td>\n",
       "      <td>2009-06-23</td>\n",
       "      <td>PRV56112</td>\n",
       "      <td>30</td>\n",
       "      <td>PHY381777</td>\n",
       "      <td>NaN</td>\n",
       "      <td>PHY381777</td>\n",
       "      <td>9594</td>\n",
       "      <td>...</td>\n",
       "      <td>NaN</td>\n",
       "      <td>NaN</td>\n",
       "      <td>NaN</td>\n",
       "      <td>NaN</td>\n",
       "      <td>NaN</td>\n",
       "      <td>NaN</td>\n",
       "      <td>NaN</td>\n",
       "      <td>NaN</td>\n",
       "      <td>0</td>\n",
       "      <td>NaN</td>\n",
       "    </tr>\n",
       "    <tr>\n",
       "      <th>2</th>\n",
       "      <td>BENE11007</td>\n",
       "      <td>CLM233081</td>\n",
       "      <td>2009-03-07</td>\n",
       "      <td>2009-03-07</td>\n",
       "      <td>PRV56979</td>\n",
       "      <td>200</td>\n",
       "      <td>PHY425311</td>\n",
       "      <td>NaN</td>\n",
       "      <td>PHY425311</td>\n",
       "      <td>7248</td>\n",
       "      <td>...</td>\n",
       "      <td>NaN</td>\n",
       "      <td>NaN</td>\n",
       "      <td>NaN</td>\n",
       "      <td>NaN</td>\n",
       "      <td>NaN</td>\n",
       "      <td>NaN</td>\n",
       "      <td>NaN</td>\n",
       "      <td>NaN</td>\n",
       "      <td>0</td>\n",
       "      <td>NaN</td>\n",
       "    </tr>\n",
       "    <tr>\n",
       "      <th>3</th>\n",
       "      <td>BENE11007</td>\n",
       "      <td>CLM496381</td>\n",
       "      <td>2009-07-29</td>\n",
       "      <td>2009-07-29</td>\n",
       "      <td>PRV56573</td>\n",
       "      <td>10</td>\n",
       "      <td>PHY393253</td>\n",
       "      <td>PHY347995</td>\n",
       "      <td>NaN</td>\n",
       "      <td>58889</td>\n",
       "      <td>...</td>\n",
       "      <td>NaN</td>\n",
       "      <td>NaN</td>\n",
       "      <td>NaN</td>\n",
       "      <td>NaN</td>\n",
       "      <td>NaN</td>\n",
       "      <td>NaN</td>\n",
       "      <td>NaN</td>\n",
       "      <td>NaN</td>\n",
       "      <td>0</td>\n",
       "      <td>5939</td>\n",
       "    </tr>\n",
       "    <tr>\n",
       "      <th>4</th>\n",
       "      <td>BENE11007</td>\n",
       "      <td>CLM521391</td>\n",
       "      <td>2009-08-12</td>\n",
       "      <td>2009-08-12</td>\n",
       "      <td>PRV56573</td>\n",
       "      <td>10</td>\n",
       "      <td>PHY417685</td>\n",
       "      <td>NaN</td>\n",
       "      <td>PHY382041</td>\n",
       "      <td>V666</td>\n",
       "      <td>...</td>\n",
       "      <td>NaN</td>\n",
       "      <td>NaN</td>\n",
       "      <td>NaN</td>\n",
       "      <td>NaN</td>\n",
       "      <td>NaN</td>\n",
       "      <td>NaN</td>\n",
       "      <td>NaN</td>\n",
       "      <td>NaN</td>\n",
       "      <td>0</td>\n",
       "      <td>NaN</td>\n",
       "    </tr>\n",
       "  </tbody>\n",
       "</table>\n",
       "<p>5 rows × 27 columns</p>\n",
       "</div>"
      ],
      "text/plain": [
       "      BeneID    ClaimID ClaimStartDt  ClaimEndDt  Provider  \\\n",
       "0  BENE11001  CLM392397   2009-06-02  2009-06-02  PRV55962   \n",
       "1  BENE11001  CLM430760   2009-06-23  2009-06-23  PRV56112   \n",
       "2  BENE11007  CLM233081   2009-03-07  2009-03-07  PRV56979   \n",
       "3  BENE11007  CLM496381   2009-07-29  2009-07-29  PRV56573   \n",
       "4  BENE11007  CLM521391   2009-08-12  2009-08-12  PRV56573   \n",
       "\n",
       "   InscClaimAmtReimbursed AttendingPhysician OperatingPhysician  \\\n",
       "0                      30          PHY347633                NaN   \n",
       "1                      30          PHY381777                NaN   \n",
       "2                     200          PHY425311                NaN   \n",
       "3                      10          PHY393253          PHY347995   \n",
       "4                      10          PHY417685                NaN   \n",
       "\n",
       "  OtherPhysician ClmDiagnosisCode_1  ... ClmDiagnosisCode_9  \\\n",
       "0      PHY347633              V5832  ...                NaN   \n",
       "1      PHY381777               9594  ...                NaN   \n",
       "2      PHY425311               7248  ...                NaN   \n",
       "3            NaN              58889  ...                NaN   \n",
       "4      PHY382041               V666  ...                NaN   \n",
       "\n",
       "  ClmDiagnosisCode_10 ClmProcedureCode_1 ClmProcedureCode_2  \\\n",
       "0                 NaN                NaN                NaN   \n",
       "1                 NaN                NaN                NaN   \n",
       "2                 NaN                NaN                NaN   \n",
       "3                 NaN                NaN                NaN   \n",
       "4                 NaN                NaN                NaN   \n",
       "\n",
       "  ClmProcedureCode_3 ClmProcedureCode_4 ClmProcedureCode_5 ClmProcedureCode_6  \\\n",
       "0                NaN                NaN                NaN                NaN   \n",
       "1                NaN                NaN                NaN                NaN   \n",
       "2                NaN                NaN                NaN                NaN   \n",
       "3                NaN                NaN                NaN                NaN   \n",
       "4                NaN                NaN                NaN                NaN   \n",
       "\n",
       "  DeductibleAmtPaid  ClmAdmitDiagnosisCode  \n",
       "0                 0                    NaN  \n",
       "1                 0                    NaN  \n",
       "2                 0                    NaN  \n",
       "3                 0                   5939  \n",
       "4                 0                    NaN  \n",
       "\n",
       "[5 rows x 27 columns]"
      ]
     },
     "execution_count": 649,
     "metadata": {},
     "output_type": "execute_result"
    }
   ],
   "source": [
    "test_outpatient.head()"
   ]
  },
  {
   "cell_type": "code",
   "execution_count": null,
   "metadata": {},
   "outputs": [
    {
     "name": "stdout",
     "output_type": "stream",
     "text": [
      "<class 'pandas.core.frame.DataFrame'>\n",
      "RangeIndex: 125841 entries, 0 to 125840\n",
      "Data columns (total 27 columns):\n",
      " #   Column                  Non-Null Count   Dtype  \n",
      "---  ------                  --------------   -----  \n",
      " 0   BeneID                  125841 non-null  object \n",
      " 1   ClaimID                 125841 non-null  object \n",
      " 2   ClaimStartDt            125841 non-null  object \n",
      " 3   ClaimEndDt              125841 non-null  object \n",
      " 4   Provider                125841 non-null  object \n",
      " 5   InscClaimAmtReimbursed  125841 non-null  int64  \n",
      " 6   AttendingPhysician      125525 non-null  object \n",
      " 7   OperatingPhysician      21604 non-null   object \n",
      " 8   OtherPhysician          47619 non-null   object \n",
      " 9   ClmDiagnosisCode_1      123263 non-null  object \n",
      " 10  ClmDiagnosisCode_2      78110 non-null   object \n",
      " 11  ClmDiagnosisCode_3      49266 non-null   object \n",
      " 12  ClmDiagnosisCode_4      30470 non-null   object \n",
      " 13  ClmDiagnosisCode_5      17966 non-null   object \n",
      " 14  ClmDiagnosisCode_6      11806 non-null   object \n",
      " 15  ClmDiagnosisCode_7      7970 non-null    object \n",
      " 16  ClmDiagnosisCode_8      5531 non-null    object \n",
      " 17  ClmDiagnosisCode_9      3563 non-null    object \n",
      " 18  ClmDiagnosisCode_10     263 non-null     object \n",
      " 19  ClmProcedureCode_1      34 non-null      float64\n",
      " 20  ClmProcedureCode_2      9 non-null       float64\n",
      " 21  ClmProcedureCode_3      2 non-null       float64\n",
      " 22  ClmProcedureCode_4      0 non-null       float64\n",
      " 23  ClmProcedureCode_5      0 non-null       float64\n",
      " 24  ClmProcedureCode_6      0 non-null       float64\n",
      " 25  DeductibleAmtPaid       125841 non-null  int64  \n",
      " 26  ClmAdmitDiagnosisCode   25805 non-null   object \n",
      "dtypes: float64(6), int64(2), object(19)\n",
      "memory usage: 25.9+ MB\n"
     ]
    }
   ],
   "source": [
    "test_outpatient.info()"
   ]
  },
  {
   "cell_type": "code",
   "execution_count": null,
   "metadata": {},
   "outputs": [],
   "source": [
    "# ensure the Claims, Admission and Discharge columns are in datetime format\n",
    "merged_df['ClaimStartDt'] = pd.to_datetime(merged_df['ClaimStartDt'], errors='coerce')\n",
    "merged_df['ClaimEndDt'] = pd.to_datetime(merged_df['ClaimEndDt'], errors='coerce')\n",
    "merged_df['AdmissionDt'] = pd.to_datetime(merged_df['AdmissionDt'], errors='coerce')\n",
    "merged_df['DischargeDt'] = pd.to_datetime(merged_df['DischargeDt'], errors='coerce')"
   ]
  },
  {
   "cell_type": "code",
   "execution_count": null,
   "metadata": {},
   "outputs": [
    {
     "name": "stdout",
     "output_type": "stream",
     "text": [
      "There are 0 duplicate Claims.\n"
     ]
    }
   ],
   "source": [
    "# checking for duplicates on claims column.\n",
    "# display duplicated claims in the column.\n",
    "print(f\"There are {test_outpatient['ClaimID'].duplicated().sum()} duplicate Claims.\")"
   ]
  },
  {
   "cell_type": "markdown",
   "metadata": {},
   "source": [
    "##### I will check if there are Beneficiaries who were deceased and reported to visit hospital after DOD."
   ]
  },
  {
   "cell_type": "code",
   "execution_count": null,
   "metadata": {},
   "outputs": [
    {
     "name": "stdout",
     "output_type": "stream",
     "text": [
      "There are 0 beneficiaries who filed 0 claims after they were deceased.\n"
     ]
    }
   ],
   "source": [
    "# filter beneficiaries where ClaimsStartDt is later than DOD\n",
    "claims_after_dod = merged_df[merged_df['ClaimStartDt'] > merged_df['DOD']]\n",
    "\n",
    "# count the number of unique beneficiaries and total claims\n",
    "num_beneficiaries = claims_after_dod['BeneID'].nunique()  # Count unique beneficiaries\n",
    "num_claims = claims_after_dod.shape[0]  # Total number of claims\n",
    "\n",
    "# print the result\n",
    "print(f\"There are {num_beneficiaries} beneficiaries who filed {num_claims} claims after they were deceased.\")"
   ]
  },
  {
   "cell_type": "code",
   "execution_count": null,
   "metadata": {},
   "outputs": [
    {
     "name": "stdout",
     "output_type": "stream",
     "text": [
      "There are 0 beneficiaries who ended 0 claims after they were deceased.\n"
     ]
    }
   ],
   "source": [
    "# filter beneficiaries where ClaimEndDt is later than DOD\n",
    "ended_claims_after_dod = merged_df[merged_df['ClaimEndDt'] > merged_df['DOD']]\n",
    "\n",
    "# count the number of unique beneficiaries and total claims\n",
    "num_beneficiaries = ended_claims_after_dod['BeneID'].nunique()  # Count unique beneficiaries\n",
    "num_claims = ended_claims_after_dod.shape[0]  # Total number of claims\n",
    "\n",
    "# print the result\n",
    "print(f\"There are {num_beneficiaries} beneficiaries who ended {num_claims} claims after they were deceased.\")"
   ]
  },
  {
   "cell_type": "markdown",
   "metadata": {},
   "source": [
    "##### There are no beneficiaries who filed and ended a claim after they were deceased."
   ]
  },
  {
   "cell_type": "code",
   "execution_count": null,
   "metadata": {},
   "outputs": [
    {
     "name": "stdout",
     "output_type": "stream",
     "text": [
      "There are 0 providers who had Beneficiaries who sent a claim after they were deceased.\n"
     ]
    }
   ],
   "source": [
    "# filter for claims with dates later than the date of death\n",
    "claims_after_death = merged_df[\n",
    "    (merged_df['ClaimStartDt'] > merged_df['DOD']) | \n",
    "    (merged_df['ClaimEndDt'] > merged_df['DOD'])\n",
    "]\n",
    "\n",
    "# count the unique providers\n",
    "providers_with_late_claims = claims_after_death['Provider'].nunique()\n",
    "\n",
    "# print the result\n",
    "print(f\"There are {providers_with_late_claims} providers who had Beneficiaries who sent a claim after they were deceased.\")"
   ]
  },
  {
   "cell_type": "code",
   "execution_count": null,
   "metadata": {},
   "outputs": [
    {
     "name": "stdout",
     "output_type": "stream",
     "text": [
      "There are 0 attending physicians who had Beneficiaries who sent a claim after they were deceased.\n"
     ]
    }
   ],
   "source": [
    "# count the unique attending physicians\n",
    "attending_physicians_with_late_claims = claims_after_death['AttendingPhysician'].nunique()\n",
    "\n",
    "# print the result\n",
    "print(f\"There are {attending_physicians_with_late_claims} attending physicians who had Beneficiaries who sent a claim after they were deceased.\")"
   ]
  },
  {
   "cell_type": "code",
   "execution_count": null,
   "metadata": {},
   "outputs": [
    {
     "name": "stdout",
     "output_type": "stream",
     "text": [
      "There are 0 operating physicians who had Beneficiaries who sent a claim after they were deceased.\n"
     ]
    }
   ],
   "source": [
    "# count the unique providers\n",
    "operating_physicians_with_late_claims = claims_after_death['OperatingPhysician'].nunique()\n",
    "\n",
    "# print the result\n",
    "print(f\"There are {operating_physicians_with_late_claims} operating physicians who had Beneficiaries who sent a claim after they were deceased.\")"
   ]
  },
  {
   "cell_type": "code",
   "execution_count": null,
   "metadata": {},
   "outputs": [
    {
     "name": "stdout",
     "output_type": "stream",
     "text": [
      "There are 0 other physicians who had Beneficiaries who sent a claim after they were deceased.\n"
     ]
    }
   ],
   "source": [
    "# count the unique providers\n",
    "other_physicians_with_late_claims = claims_after_death['OtherPhysician'].nunique()\n",
    "\n",
    "# print the result\n",
    "print(f\"There are {other_physicians_with_late_claims} other physicians who had Beneficiaries who sent a claim after they were deceased.\")"
   ]
  },
  {
   "cell_type": "code",
   "execution_count": null,
   "metadata": {},
   "outputs": [
    {
     "data": {
      "text/html": [
       "<div>\n",
       "<style scoped>\n",
       "    .dataframe tbody tr th:only-of-type {\n",
       "        vertical-align: middle;\n",
       "    }\n",
       "\n",
       "    .dataframe tbody tr th {\n",
       "        vertical-align: top;\n",
       "    }\n",
       "\n",
       "    .dataframe thead th {\n",
       "        text-align: right;\n",
       "    }\n",
       "</style>\n",
       "<table border=\"1\" class=\"dataframe\">\n",
       "  <thead>\n",
       "    <tr style=\"text-align: right;\">\n",
       "      <th></th>\n",
       "      <th>BeneficiaryCount</th>\n",
       "    </tr>\n",
       "  </thead>\n",
       "  <tbody>\n",
       "    <tr>\n",
       "      <th>count</th>\n",
       "      <td>2303.000000</td>\n",
       "    </tr>\n",
       "    <tr>\n",
       "      <th>mean</th>\n",
       "      <td>11.115502</td>\n",
       "    </tr>\n",
       "    <tr>\n",
       "      <th>std</th>\n",
       "      <td>43.359123</td>\n",
       "    </tr>\n",
       "    <tr>\n",
       "      <th>min</th>\n",
       "      <td>1.000000</td>\n",
       "    </tr>\n",
       "    <tr>\n",
       "      <th>25%</th>\n",
       "      <td>1.000000</td>\n",
       "    </tr>\n",
       "    <tr>\n",
       "      <th>50%</th>\n",
       "      <td>2.000000</td>\n",
       "    </tr>\n",
       "    <tr>\n",
       "      <th>75%</th>\n",
       "      <td>6.000000</td>\n",
       "    </tr>\n",
       "    <tr>\n",
       "      <th>max</th>\n",
       "      <td>981.000000</td>\n",
       "    </tr>\n",
       "  </tbody>\n",
       "</table>\n",
       "</div>"
      ],
      "text/plain": [
       "       BeneficiaryCount\n",
       "count       2303.000000\n",
       "mean          11.115502\n",
       "std           43.359123\n",
       "min            1.000000\n",
       "25%            1.000000\n",
       "50%            2.000000\n",
       "75%            6.000000\n",
       "max          981.000000"
      ]
     },
     "execution_count": 696,
     "metadata": {},
     "output_type": "execute_result"
    }
   ],
   "source": [
    "# Group by 'ClmAdmitDiagnosisCode' and count the number of unique 'BeneID' for each diagnosis code\n",
    "out_grouped_by_diagnosis = test_outpatient.groupby('ClmAdmitDiagnosisCode')['BeneID'].nunique().reset_index(name='BeneficiaryCount')\n",
    "\n",
    "# Print the result\n",
    "out_grouped_by_diagnosis.describe()"
   ]
  },
  {
   "cell_type": "code",
   "execution_count": null,
   "metadata": {},
   "outputs": [
    {
     "data": {
      "image/png": "[encoded data removed]",
      "text/plain": [
       "<Figure size 1000x600 with 1 Axes>"
      ]
     },
     "metadata": {},
     "output_type": "display_data"
    }
   ],
   "source": [
    "# Plot a histogram of the BeneficiaryCount\n",
    "plt.figure(figsize=(10, 6))\n",
    "plt.hist(out_grouped_by_diagnosis['BeneficiaryCount'], bins=30, edgecolor='black', color='skyblue')\n",
    "plt.title('Distribution of Out Patients Count by Diagnosis Code')\n",
    "plt.xlabel('Number of Beneficiaries')\n",
    "plt.ylabel('Frequency')\n",
    "plt.show()"
   ]
  },
  {
   "cell_type": "markdown",
   "metadata": {},
   "source": [
    "***"
   ]
  },
  {
   "cell_type": "code",
   "execution_count": null,
   "metadata": {},
   "outputs": [],
   "source": []
  },
  {
   "cell_type": "code",
   "execution_count": null,
   "metadata": {},
   "outputs": [
    {
     "data": {
      "text/html": [
       "<div>\n",
       "<style scoped>\n",
       "    .dataframe tbody tr th:only-of-type {\n",
       "        vertical-align: middle;\n",
       "    }\n",
       "\n",
       "    .dataframe tbody tr th {\n",
       "        vertical-align: top;\n",
       "    }\n",
       "\n",
       "    .dataframe thead th {\n",
       "        text-align: right;\n",
       "    }\n",
       "</style>\n",
       "<table border=\"1\" class=\"dataframe\">\n",
       "  <thead>\n",
       "    <tr style=\"text-align: right;\">\n",
       "      <th></th>\n",
       "      <th>Provider</th>\n",
       "    </tr>\n",
       "  </thead>\n",
       "  <tbody>\n",
       "    <tr>\n",
       "      <th>0</th>\n",
       "      <td>PRV51002</td>\n",
       "    </tr>\n",
       "    <tr>\n",
       "      <th>1</th>\n",
       "      <td>PRV51006</td>\n",
       "    </tr>\n",
       "    <tr>\n",
       "      <th>2</th>\n",
       "      <td>PRV51009</td>\n",
       "    </tr>\n",
       "    <tr>\n",
       "      <th>3</th>\n",
       "      <td>PRV51010</td>\n",
       "    </tr>\n",
       "    <tr>\n",
       "      <th>4</th>\n",
       "      <td>PRV51018</td>\n",
       "    </tr>\n",
       "  </tbody>\n",
       "</table>\n",
       "</div>"
      ],
      "text/plain": [
       "   Provider\n",
       "0  PRV51002\n",
       "1  PRV51006\n",
       "2  PRV51009\n",
       "3  PRV51010\n",
       "4  PRV51018"
      ]
     },
     "execution_count": 659,
     "metadata": {},
     "output_type": "execute_result"
    }
   ],
   "source": [
    "test.head()"
   ]
  },
  {
   "cell_type": "code",
   "execution_count": null,
   "metadata": {},
   "outputs": [
    {
     "name": "stdout",
     "output_type": "stream",
     "text": [
      "1353\n"
     ]
    }
   ],
   "source": [
    "# check unique Providers.\n",
    "print(test['Provider'].nunique())"
   ]
  },
  {
   "cell_type": "code",
   "execution_count": null,
   "metadata": {},
   "outputs": [
    {
     "name": "stdout",
     "output_type": "stream",
     "text": [
      "<class 'pandas.core.frame.DataFrame'>\n",
      "RangeIndex: 1353 entries, 0 to 1352\n",
      "Data columns (total 1 columns):\n",
      " #   Column    Non-Null Count  Dtype \n",
      "---  ------    --------------  ----- \n",
      " 0   Provider  1353 non-null   object\n",
      "dtypes: object(1)\n",
      "memory usage: 10.7+ KB\n"
     ]
    }
   ],
   "source": [
    "test.info()"
   ]
  },
  {
   "cell_type": "code",
   "execution_count": null,
   "metadata": {},
   "outputs": [
    {
     "data": {
      "text/html": [
       "<div>\n",
       "<style scoped>\n",
       "    .dataframe tbody tr th:only-of-type {\n",
       "        vertical-align: middle;\n",
       "    }\n",
       "\n",
       "    .dataframe tbody tr th {\n",
       "        vertical-align: top;\n",
       "    }\n",
       "\n",
       "    .dataframe thead th {\n",
       "        text-align: right;\n",
       "    }\n",
       "</style>\n",
       "<table border=\"1\" class=\"dataframe\">\n",
       "  <thead>\n",
       "    <tr style=\"text-align: right;\">\n",
       "      <th></th>\n",
       "      <th>BeneID</th>\n",
       "      <th>DOB</th>\n",
       "      <th>DOD</th>\n",
       "      <th>Gender</th>\n",
       "      <th>Race</th>\n",
       "      <th>RenalDiseaseIndicator</th>\n",
       "      <th>State</th>\n",
       "      <th>County</th>\n",
       "      <th>NoOfMonths_PartACov</th>\n",
       "      <th>NoOfMonths_PartBCov</th>\n",
       "      <th>...</th>\n",
       "      <th>ChronicCond_Depression</th>\n",
       "      <th>ChronicCond_Diabetes</th>\n",
       "      <th>ChronicCond_IschemicHeart</th>\n",
       "      <th>ChronicCond_Osteoporasis</th>\n",
       "      <th>ChronicCond_rheumatoidarthritis</th>\n",
       "      <th>ChronicCond_stroke</th>\n",
       "      <th>IPAnnualReimbursementAmt</th>\n",
       "      <th>IPAnnualDeductibleAmt</th>\n",
       "      <th>OPAnnualReimbursementAmt</th>\n",
       "      <th>OPAnnualDeductibleAmt</th>\n",
       "    </tr>\n",
       "  </thead>\n",
       "  <tbody>\n",
       "    <tr>\n",
       "      <th>0</th>\n",
       "      <td>BENE11001</td>\n",
       "      <td>1943-01-01</td>\n",
       "      <td>NaN</td>\n",
       "      <td>1</td>\n",
       "      <td>1</td>\n",
       "      <td>0</td>\n",
       "      <td>39</td>\n",
       "      <td>230</td>\n",
       "      <td>12</td>\n",
       "      <td>12</td>\n",
       "      <td>...</td>\n",
       "      <td>1</td>\n",
       "      <td>1</td>\n",
       "      <td>1</td>\n",
       "      <td>2</td>\n",
       "      <td>1</td>\n",
       "      <td>1</td>\n",
       "      <td>36000</td>\n",
       "      <td>3204</td>\n",
       "      <td>60</td>\n",
       "      <td>70</td>\n",
       "    </tr>\n",
       "    <tr>\n",
       "      <th>1</th>\n",
       "      <td>BENE11002</td>\n",
       "      <td>1936-09-01</td>\n",
       "      <td>NaN</td>\n",
       "      <td>2</td>\n",
       "      <td>1</td>\n",
       "      <td>0</td>\n",
       "      <td>39</td>\n",
       "      <td>280</td>\n",
       "      <td>12</td>\n",
       "      <td>12</td>\n",
       "      <td>...</td>\n",
       "      <td>2</td>\n",
       "      <td>2</td>\n",
       "      <td>2</td>\n",
       "      <td>2</td>\n",
       "      <td>2</td>\n",
       "      <td>2</td>\n",
       "      <td>0</td>\n",
       "      <td>0</td>\n",
       "      <td>30</td>\n",
       "      <td>50</td>\n",
       "    </tr>\n",
       "    <tr>\n",
       "      <th>2</th>\n",
       "      <td>BENE11003</td>\n",
       "      <td>1936-08-01</td>\n",
       "      <td>NaN</td>\n",
       "      <td>1</td>\n",
       "      <td>1</td>\n",
       "      <td>0</td>\n",
       "      <td>52</td>\n",
       "      <td>590</td>\n",
       "      <td>12</td>\n",
       "      <td>12</td>\n",
       "      <td>...</td>\n",
       "      <td>2</td>\n",
       "      <td>2</td>\n",
       "      <td>1</td>\n",
       "      <td>2</td>\n",
       "      <td>2</td>\n",
       "      <td>2</td>\n",
       "      <td>0</td>\n",
       "      <td>0</td>\n",
       "      <td>90</td>\n",
       "      <td>40</td>\n",
       "    </tr>\n",
       "    <tr>\n",
       "      <th>3</th>\n",
       "      <td>BENE11004</td>\n",
       "      <td>1922-07-01</td>\n",
       "      <td>NaN</td>\n",
       "      <td>1</td>\n",
       "      <td>1</td>\n",
       "      <td>0</td>\n",
       "      <td>39</td>\n",
       "      <td>270</td>\n",
       "      <td>12</td>\n",
       "      <td>12</td>\n",
       "      <td>...</td>\n",
       "      <td>2</td>\n",
       "      <td>1</td>\n",
       "      <td>1</td>\n",
       "      <td>1</td>\n",
       "      <td>1</td>\n",
       "      <td>2</td>\n",
       "      <td>0</td>\n",
       "      <td>0</td>\n",
       "      <td>1810</td>\n",
       "      <td>760</td>\n",
       "    </tr>\n",
       "    <tr>\n",
       "      <th>4</th>\n",
       "      <td>BENE11005</td>\n",
       "      <td>1935-09-01</td>\n",
       "      <td>NaN</td>\n",
       "      <td>1</td>\n",
       "      <td>1</td>\n",
       "      <td>0</td>\n",
       "      <td>24</td>\n",
       "      <td>680</td>\n",
       "      <td>12</td>\n",
       "      <td>12</td>\n",
       "      <td>...</td>\n",
       "      <td>2</td>\n",
       "      <td>1</td>\n",
       "      <td>2</td>\n",
       "      <td>2</td>\n",
       "      <td>2</td>\n",
       "      <td>2</td>\n",
       "      <td>0</td>\n",
       "      <td>0</td>\n",
       "      <td>1790</td>\n",
       "      <td>1200</td>\n",
       "    </tr>\n",
       "  </tbody>\n",
       "</table>\n",
       "<p>5 rows × 25 columns</p>\n",
       "</div>"
      ],
      "text/plain": [
       "      BeneID         DOB  DOD  Gender  Race RenalDiseaseIndicator  State  \\\n",
       "0  BENE11001  1943-01-01  NaN       1     1                     0     39   \n",
       "1  BENE11002  1936-09-01  NaN       2     1                     0     39   \n",
       "2  BENE11003  1936-08-01  NaN       1     1                     0     52   \n",
       "3  BENE11004  1922-07-01  NaN       1     1                     0     39   \n",
       "4  BENE11005  1935-09-01  NaN       1     1                     0     24   \n",
       "\n",
       "   County  NoOfMonths_PartACov  NoOfMonths_PartBCov  ...  \\\n",
       "0     230                   12                   12  ...   \n",
       "1     280                   12                   12  ...   \n",
       "2     590                   12                   12  ...   \n",
       "3     270                   12                   12  ...   \n",
       "4     680                   12                   12  ...   \n",
       "\n",
       "   ChronicCond_Depression  ChronicCond_Diabetes  ChronicCond_IschemicHeart  \\\n",
       "0                       1                     1                          1   \n",
       "1                       2                     2                          2   \n",
       "2                       2                     2                          1   \n",
       "3                       2                     1                          1   \n",
       "4                       2                     1                          2   \n",
       "\n",
       "   ChronicCond_Osteoporasis  ChronicCond_rheumatoidarthritis  \\\n",
       "0                         2                                1   \n",
       "1                         2                                2   \n",
       "2                         2                                2   \n",
       "3                         1                                1   \n",
       "4                         2                                2   \n",
       "\n",
       "   ChronicCond_stroke  IPAnnualReimbursementAmt  IPAnnualDeductibleAmt  \\\n",
       "0                   1                     36000                   3204   \n",
       "1                   2                         0                      0   \n",
       "2                   2                         0                      0   \n",
       "3                   2                         0                      0   \n",
       "4                   2                         0                      0   \n",
       "\n",
       "   OPAnnualReimbursementAmt  OPAnnualDeductibleAmt  \n",
       "0                        60                     70  \n",
       "1                        30                     50  \n",
       "2                        90                     40  \n",
       "3                      1810                    760  \n",
       "4                      1790                   1200  \n",
       "\n",
       "[5 rows x 25 columns]"
      ]
     },
     "execution_count": 662,
     "metadata": {},
     "output_type": "execute_result"
    }
   ],
   "source": [
    "train_beneficiary.head()"
   ]
  },
  {
   "cell_type": "code",
   "execution_count": null,
   "metadata": {},
   "outputs": [
    {
     "data": {
      "text/html": [
       "<div>\n",
       "<style scoped>\n",
       "    .dataframe tbody tr th:only-of-type {\n",
       "        vertical-align: middle;\n",
       "    }\n",
       "\n",
       "    .dataframe tbody tr th {\n",
       "        vertical-align: top;\n",
       "    }\n",
       "\n",
       "    .dataframe thead th {\n",
       "        text-align: right;\n",
       "    }\n",
       "</style>\n",
       "<table border=\"1\" class=\"dataframe\">\n",
       "  <thead>\n",
       "    <tr style=\"text-align: right;\">\n",
       "      <th></th>\n",
       "      <th>BeneID</th>\n",
       "      <th>ClaimID</th>\n",
       "      <th>ClaimStartDt</th>\n",
       "      <th>ClaimEndDt</th>\n",
       "      <th>Provider</th>\n",
       "      <th>InscClaimAmtReimbursed</th>\n",
       "      <th>AttendingPhysician</th>\n",
       "      <th>OperatingPhysician</th>\n",
       "      <th>OtherPhysician</th>\n",
       "      <th>AdmissionDt</th>\n",
       "      <th>...</th>\n",
       "      <th>ClmDiagnosisCode_7</th>\n",
       "      <th>ClmDiagnosisCode_8</th>\n",
       "      <th>ClmDiagnosisCode_9</th>\n",
       "      <th>ClmDiagnosisCode_10</th>\n",
       "      <th>ClmProcedureCode_1</th>\n",
       "      <th>ClmProcedureCode_2</th>\n",
       "      <th>ClmProcedureCode_3</th>\n",
       "      <th>ClmProcedureCode_4</th>\n",
       "      <th>ClmProcedureCode_5</th>\n",
       "      <th>ClmProcedureCode_6</th>\n",
       "    </tr>\n",
       "  </thead>\n",
       "  <tbody>\n",
       "    <tr>\n",
       "      <th>0</th>\n",
       "      <td>BENE11001</td>\n",
       "      <td>CLM46614</td>\n",
       "      <td>2009-04-12</td>\n",
       "      <td>2009-04-18</td>\n",
       "      <td>PRV55912</td>\n",
       "      <td>26000</td>\n",
       "      <td>PHY390922</td>\n",
       "      <td>NaN</td>\n",
       "      <td>NaN</td>\n",
       "      <td>2009-04-12</td>\n",
       "      <td>...</td>\n",
       "      <td>2724</td>\n",
       "      <td>19889</td>\n",
       "      <td>5849</td>\n",
       "      <td>NaN</td>\n",
       "      <td>NaN</td>\n",
       "      <td>NaN</td>\n",
       "      <td>NaN</td>\n",
       "      <td>NaN</td>\n",
       "      <td>NaN</td>\n",
       "      <td>NaN</td>\n",
       "    </tr>\n",
       "    <tr>\n",
       "      <th>1</th>\n",
       "      <td>BENE11001</td>\n",
       "      <td>CLM66048</td>\n",
       "      <td>2009-08-31</td>\n",
       "      <td>2009-09-02</td>\n",
       "      <td>PRV55907</td>\n",
       "      <td>5000</td>\n",
       "      <td>PHY318495</td>\n",
       "      <td>PHY318495</td>\n",
       "      <td>NaN</td>\n",
       "      <td>2009-08-31</td>\n",
       "      <td>...</td>\n",
       "      <td>NaN</td>\n",
       "      <td>NaN</td>\n",
       "      <td>NaN</td>\n",
       "      <td>NaN</td>\n",
       "      <td>7092.0</td>\n",
       "      <td>NaN</td>\n",
       "      <td>NaN</td>\n",
       "      <td>NaN</td>\n",
       "      <td>NaN</td>\n",
       "      <td>NaN</td>\n",
       "    </tr>\n",
       "    <tr>\n",
       "      <th>2</th>\n",
       "      <td>BENE11001</td>\n",
       "      <td>CLM68358</td>\n",
       "      <td>2009-09-17</td>\n",
       "      <td>2009-09-20</td>\n",
       "      <td>PRV56046</td>\n",
       "      <td>5000</td>\n",
       "      <td>PHY372395</td>\n",
       "      <td>NaN</td>\n",
       "      <td>PHY324689</td>\n",
       "      <td>2009-09-17</td>\n",
       "      <td>...</td>\n",
       "      <td>NaN</td>\n",
       "      <td>NaN</td>\n",
       "      <td>NaN</td>\n",
       "      <td>NaN</td>\n",
       "      <td>NaN</td>\n",
       "      <td>NaN</td>\n",
       "      <td>NaN</td>\n",
       "      <td>NaN</td>\n",
       "      <td>NaN</td>\n",
       "      <td>NaN</td>\n",
       "    </tr>\n",
       "    <tr>\n",
       "      <th>3</th>\n",
       "      <td>BENE11011</td>\n",
       "      <td>CLM38412</td>\n",
       "      <td>2009-02-14</td>\n",
       "      <td>2009-02-22</td>\n",
       "      <td>PRV52405</td>\n",
       "      <td>5000</td>\n",
       "      <td>PHY369659</td>\n",
       "      <td>PHY392961</td>\n",
       "      <td>PHY349768</td>\n",
       "      <td>2009-02-14</td>\n",
       "      <td>...</td>\n",
       "      <td>25062</td>\n",
       "      <td>40390</td>\n",
       "      <td>4019</td>\n",
       "      <td>NaN</td>\n",
       "      <td>331.0</td>\n",
       "      <td>NaN</td>\n",
       "      <td>NaN</td>\n",
       "      <td>NaN</td>\n",
       "      <td>NaN</td>\n",
       "      <td>NaN</td>\n",
       "    </tr>\n",
       "    <tr>\n",
       "      <th>4</th>\n",
       "      <td>BENE11014</td>\n",
       "      <td>CLM63689</td>\n",
       "      <td>2009-08-13</td>\n",
       "      <td>2009-08-30</td>\n",
       "      <td>PRV56614</td>\n",
       "      <td>10000</td>\n",
       "      <td>PHY379376</td>\n",
       "      <td>PHY398258</td>\n",
       "      <td>NaN</td>\n",
       "      <td>2009-08-13</td>\n",
       "      <td>...</td>\n",
       "      <td>5119</td>\n",
       "      <td>29620</td>\n",
       "      <td>20300</td>\n",
       "      <td>NaN</td>\n",
       "      <td>3893.0</td>\n",
       "      <td>NaN</td>\n",
       "      <td>NaN</td>\n",
       "      <td>NaN</td>\n",
       "      <td>NaN</td>\n",
       "      <td>NaN</td>\n",
       "    </tr>\n",
       "  </tbody>\n",
       "</table>\n",
       "<p>5 rows × 30 columns</p>\n",
       "</div>"
      ],
      "text/plain": [
       "      BeneID   ClaimID ClaimStartDt  ClaimEndDt  Provider  \\\n",
       "0  BENE11001  CLM46614   2009-04-12  2009-04-18  PRV55912   \n",
       "1  BENE11001  CLM66048   2009-08-31  2009-09-02  PRV55907   \n",
       "2  BENE11001  CLM68358   2009-09-17  2009-09-20  PRV56046   \n",
       "3  BENE11011  CLM38412   2009-02-14  2009-02-22  PRV52405   \n",
       "4  BENE11014  CLM63689   2009-08-13  2009-08-30  PRV56614   \n",
       "\n",
       "   InscClaimAmtReimbursed AttendingPhysician OperatingPhysician  \\\n",
       "0                   26000          PHY390922                NaN   \n",
       "1                    5000          PHY318495          PHY318495   \n",
       "2                    5000          PHY372395                NaN   \n",
       "3                    5000          PHY369659          PHY392961   \n",
       "4                   10000          PHY379376          PHY398258   \n",
       "\n",
       "  OtherPhysician AdmissionDt  ... ClmDiagnosisCode_7  ClmDiagnosisCode_8  \\\n",
       "0            NaN  2009-04-12  ...               2724               19889   \n",
       "1            NaN  2009-08-31  ...                NaN                 NaN   \n",
       "2      PHY324689  2009-09-17  ...                NaN                 NaN   \n",
       "3      PHY349768  2009-02-14  ...              25062               40390   \n",
       "4            NaN  2009-08-13  ...               5119               29620   \n",
       "\n",
       "  ClmDiagnosisCode_9 ClmDiagnosisCode_10 ClmProcedureCode_1  \\\n",
       "0               5849                 NaN                NaN   \n",
       "1                NaN                 NaN             7092.0   \n",
       "2                NaN                 NaN                NaN   \n",
       "3               4019                 NaN              331.0   \n",
       "4              20300                 NaN             3893.0   \n",
       "\n",
       "  ClmProcedureCode_2 ClmProcedureCode_3 ClmProcedureCode_4 ClmProcedureCode_5  \\\n",
       "0                NaN                NaN                NaN                NaN   \n",
       "1                NaN                NaN                NaN                NaN   \n",
       "2                NaN                NaN                NaN                NaN   \n",
       "3                NaN                NaN                NaN                NaN   \n",
       "4                NaN                NaN                NaN                NaN   \n",
       "\n",
       "  ClmProcedureCode_6  \n",
       "0                NaN  \n",
       "1                NaN  \n",
       "2                NaN  \n",
       "3                NaN  \n",
       "4                NaN  \n",
       "\n",
       "[5 rows x 30 columns]"
      ]
     },
     "execution_count": 663,
     "metadata": {},
     "output_type": "execute_result"
    }
   ],
   "source": [
    "train_inpatient.head()"
   ]
  },
  {
   "cell_type": "code",
   "execution_count": null,
   "metadata": {},
   "outputs": [
    {
     "data": {
      "text/html": [
       "<div>\n",
       "<style scoped>\n",
       "    .dataframe tbody tr th:only-of-type {\n",
       "        vertical-align: middle;\n",
       "    }\n",
       "\n",
       "    .dataframe tbody tr th {\n",
       "        vertical-align: top;\n",
       "    }\n",
       "\n",
       "    .dataframe thead th {\n",
       "        text-align: right;\n",
       "    }\n",
       "</style>\n",
       "<table border=\"1\" class=\"dataframe\">\n",
       "  <thead>\n",
       "    <tr style=\"text-align: right;\">\n",
       "      <th></th>\n",
       "      <th>BeneID</th>\n",
       "      <th>ClaimID</th>\n",
       "      <th>ClaimStartDt</th>\n",
       "      <th>ClaimEndDt</th>\n",
       "      <th>Provider</th>\n",
       "      <th>InscClaimAmtReimbursed</th>\n",
       "      <th>AttendingPhysician</th>\n",
       "      <th>OperatingPhysician</th>\n",
       "      <th>OtherPhysician</th>\n",
       "      <th>ClmDiagnosisCode_1</th>\n",
       "      <th>...</th>\n",
       "      <th>ClmDiagnosisCode_9</th>\n",
       "      <th>ClmDiagnosisCode_10</th>\n",
       "      <th>ClmProcedureCode_1</th>\n",
       "      <th>ClmProcedureCode_2</th>\n",
       "      <th>ClmProcedureCode_3</th>\n",
       "      <th>ClmProcedureCode_4</th>\n",
       "      <th>ClmProcedureCode_5</th>\n",
       "      <th>ClmProcedureCode_6</th>\n",
       "      <th>DeductibleAmtPaid</th>\n",
       "      <th>ClmAdmitDiagnosisCode</th>\n",
       "    </tr>\n",
       "  </thead>\n",
       "  <tbody>\n",
       "    <tr>\n",
       "      <th>0</th>\n",
       "      <td>BENE11002</td>\n",
       "      <td>CLM624349</td>\n",
       "      <td>2009-10-11</td>\n",
       "      <td>2009-10-11</td>\n",
       "      <td>PRV56011</td>\n",
       "      <td>30</td>\n",
       "      <td>PHY326117</td>\n",
       "      <td>NaN</td>\n",
       "      <td>NaN</td>\n",
       "      <td>78943</td>\n",
       "      <td>...</td>\n",
       "      <td>NaN</td>\n",
       "      <td>NaN</td>\n",
       "      <td>NaN</td>\n",
       "      <td>NaN</td>\n",
       "      <td>NaN</td>\n",
       "      <td>NaN</td>\n",
       "      <td>NaN</td>\n",
       "      <td>NaN</td>\n",
       "      <td>0</td>\n",
       "      <td>56409</td>\n",
       "    </tr>\n",
       "    <tr>\n",
       "      <th>1</th>\n",
       "      <td>BENE11003</td>\n",
       "      <td>CLM189947</td>\n",
       "      <td>2009-02-12</td>\n",
       "      <td>2009-02-12</td>\n",
       "      <td>PRV57610</td>\n",
       "      <td>80</td>\n",
       "      <td>PHY362868</td>\n",
       "      <td>NaN</td>\n",
       "      <td>NaN</td>\n",
       "      <td>6115</td>\n",
       "      <td>...</td>\n",
       "      <td>NaN</td>\n",
       "      <td>NaN</td>\n",
       "      <td>NaN</td>\n",
       "      <td>NaN</td>\n",
       "      <td>NaN</td>\n",
       "      <td>NaN</td>\n",
       "      <td>NaN</td>\n",
       "      <td>NaN</td>\n",
       "      <td>0</td>\n",
       "      <td>79380</td>\n",
       "    </tr>\n",
       "    <tr>\n",
       "      <th>2</th>\n",
       "      <td>BENE11003</td>\n",
       "      <td>CLM438021</td>\n",
       "      <td>2009-06-27</td>\n",
       "      <td>2009-06-27</td>\n",
       "      <td>PRV57595</td>\n",
       "      <td>10</td>\n",
       "      <td>PHY328821</td>\n",
       "      <td>NaN</td>\n",
       "      <td>NaN</td>\n",
       "      <td>2723</td>\n",
       "      <td>...</td>\n",
       "      <td>NaN</td>\n",
       "      <td>NaN</td>\n",
       "      <td>NaN</td>\n",
       "      <td>NaN</td>\n",
       "      <td>NaN</td>\n",
       "      <td>NaN</td>\n",
       "      <td>NaN</td>\n",
       "      <td>NaN</td>\n",
       "      <td>0</td>\n",
       "      <td>NaN</td>\n",
       "    </tr>\n",
       "    <tr>\n",
       "      <th>3</th>\n",
       "      <td>BENE11004</td>\n",
       "      <td>CLM121801</td>\n",
       "      <td>2009-01-06</td>\n",
       "      <td>2009-01-06</td>\n",
       "      <td>PRV56011</td>\n",
       "      <td>40</td>\n",
       "      <td>PHY334319</td>\n",
       "      <td>NaN</td>\n",
       "      <td>NaN</td>\n",
       "      <td>71988</td>\n",
       "      <td>...</td>\n",
       "      <td>NaN</td>\n",
       "      <td>NaN</td>\n",
       "      <td>NaN</td>\n",
       "      <td>NaN</td>\n",
       "      <td>NaN</td>\n",
       "      <td>NaN</td>\n",
       "      <td>NaN</td>\n",
       "      <td>NaN</td>\n",
       "      <td>0</td>\n",
       "      <td>NaN</td>\n",
       "    </tr>\n",
       "    <tr>\n",
       "      <th>4</th>\n",
       "      <td>BENE11004</td>\n",
       "      <td>CLM150998</td>\n",
       "      <td>2009-01-22</td>\n",
       "      <td>2009-01-22</td>\n",
       "      <td>PRV56011</td>\n",
       "      <td>200</td>\n",
       "      <td>PHY403831</td>\n",
       "      <td>NaN</td>\n",
       "      <td>NaN</td>\n",
       "      <td>82382</td>\n",
       "      <td>...</td>\n",
       "      <td>NaN</td>\n",
       "      <td>NaN</td>\n",
       "      <td>NaN</td>\n",
       "      <td>NaN</td>\n",
       "      <td>NaN</td>\n",
       "      <td>NaN</td>\n",
       "      <td>NaN</td>\n",
       "      <td>NaN</td>\n",
       "      <td>0</td>\n",
       "      <td>71947</td>\n",
       "    </tr>\n",
       "  </tbody>\n",
       "</table>\n",
       "<p>5 rows × 27 columns</p>\n",
       "</div>"
      ],
      "text/plain": [
       "      BeneID    ClaimID ClaimStartDt  ClaimEndDt  Provider  \\\n",
       "0  BENE11002  CLM624349   2009-10-11  2009-10-11  PRV56011   \n",
       "1  BENE11003  CLM189947   2009-02-12  2009-02-12  PRV57610   \n",
       "2  BENE11003  CLM438021   2009-06-27  2009-06-27  PRV57595   \n",
       "3  BENE11004  CLM121801   2009-01-06  2009-01-06  PRV56011   \n",
       "4  BENE11004  CLM150998   2009-01-22  2009-01-22  PRV56011   \n",
       "\n",
       "   InscClaimAmtReimbursed AttendingPhysician OperatingPhysician  \\\n",
       "0                      30          PHY326117                NaN   \n",
       "1                      80          PHY362868                NaN   \n",
       "2                      10          PHY328821                NaN   \n",
       "3                      40          PHY334319                NaN   \n",
       "4                     200          PHY403831                NaN   \n",
       "\n",
       "  OtherPhysician ClmDiagnosisCode_1  ... ClmDiagnosisCode_9  \\\n",
       "0            NaN              78943  ...                NaN   \n",
       "1            NaN               6115  ...                NaN   \n",
       "2            NaN               2723  ...                NaN   \n",
       "3            NaN              71988  ...                NaN   \n",
       "4            NaN              82382  ...                NaN   \n",
       "\n",
       "  ClmDiagnosisCode_10 ClmProcedureCode_1 ClmProcedureCode_2  \\\n",
       "0                 NaN                NaN                NaN   \n",
       "1                 NaN                NaN                NaN   \n",
       "2                 NaN                NaN                NaN   \n",
       "3                 NaN                NaN                NaN   \n",
       "4                 NaN                NaN                NaN   \n",
       "\n",
       "  ClmProcedureCode_3 ClmProcedureCode_4 ClmProcedureCode_5 ClmProcedureCode_6  \\\n",
       "0                NaN                NaN                NaN                NaN   \n",
       "1                NaN                NaN                NaN                NaN   \n",
       "2                NaN                NaN                NaN                NaN   \n",
       "3                NaN                NaN                NaN                NaN   \n",
       "4                NaN                NaN                NaN                NaN   \n",
       "\n",
       "  DeductibleAmtPaid  ClmAdmitDiagnosisCode  \n",
       "0                 0                  56409  \n",
       "1                 0                  79380  \n",
       "2                 0                    NaN  \n",
       "3                 0                    NaN  \n",
       "4                 0                  71947  \n",
       "\n",
       "[5 rows x 27 columns]"
      ]
     },
     "execution_count": 664,
     "metadata": {},
     "output_type": "execute_result"
    }
   ],
   "source": [
    "train_outpatient.head()"
   ]
  },
  {
   "cell_type": "code",
   "execution_count": null,
   "metadata": {},
   "outputs": [
    {
     "data": {
      "text/html": [
       "<div>\n",
       "<style scoped>\n",
       "    .dataframe tbody tr th:only-of-type {\n",
       "        vertical-align: middle;\n",
       "    }\n",
       "\n",
       "    .dataframe tbody tr th {\n",
       "        vertical-align: top;\n",
       "    }\n",
       "\n",
       "    .dataframe thead th {\n",
       "        text-align: right;\n",
       "    }\n",
       "</style>\n",
       "<table border=\"1\" class=\"dataframe\">\n",
       "  <thead>\n",
       "    <tr style=\"text-align: right;\">\n",
       "      <th></th>\n",
       "      <th>Provider</th>\n",
       "      <th>PotentialFraud</th>\n",
       "    </tr>\n",
       "  </thead>\n",
       "  <tbody>\n",
       "    <tr>\n",
       "      <th>0</th>\n",
       "      <td>PRV51001</td>\n",
       "      <td>No</td>\n",
       "    </tr>\n",
       "    <tr>\n",
       "      <th>1</th>\n",
       "      <td>PRV51003</td>\n",
       "      <td>Yes</td>\n",
       "    </tr>\n",
       "    <tr>\n",
       "      <th>2</th>\n",
       "      <td>PRV51004</td>\n",
       "      <td>No</td>\n",
       "    </tr>\n",
       "    <tr>\n",
       "      <th>3</th>\n",
       "      <td>PRV51005</td>\n",
       "      <td>Yes</td>\n",
       "    </tr>\n",
       "    <tr>\n",
       "      <th>4</th>\n",
       "      <td>PRV51007</td>\n",
       "      <td>No</td>\n",
       "    </tr>\n",
       "  </tbody>\n",
       "</table>\n",
       "</div>"
      ],
      "text/plain": [
       "   Provider PotentialFraud\n",
       "0  PRV51001             No\n",
       "1  PRV51003            Yes\n",
       "2  PRV51004             No\n",
       "3  PRV51005            Yes\n",
       "4  PRV51007             No"
      ]
     },
     "execution_count": 665,
     "metadata": {},
     "output_type": "execute_result"
    }
   ],
   "source": [
    "train.head()"
   ]
  },
  {
   "cell_type": "markdown",
   "metadata": {},
   "source": [
    "#### 21. Cleaning test_inpatient dataset."
   ]
  },
  {
   "cell_type": "code",
   "execution_count": null,
   "metadata": {},
   "outputs": [
    {
     "name": "stdout",
     "output_type": "stream",
     "text": [
      "Provider\n",
      "PRV53866    604\n",
      "PRV52618    345\n",
      "PRV51407    272\n",
      "PRV53105    216\n",
      "PRV56573    185\n",
      "           ... \n",
      "PRV51537      1\n",
      "PRV56786      1\n",
      "PRV52812      1\n",
      "PRV51461      1\n",
      "PRV55781      1\n",
      "Name: count, Length: 520, dtype: int64\n"
     ]
    }
   ],
   "source": [
    "# Count occurrences of each unique value\n",
    "provider_counts = test_inpatient['Provider'].value_counts()\n",
    "print(provider_counts)\n"
   ]
  },
  {
   "cell_type": "code",
   "execution_count": null,
   "metadata": {},
   "outputs": [
    {
     "name": "stdout",
     "output_type": "stream",
     "text": [
      "AttendingPhysician\n",
      "PHY329480    301\n",
      "PHY356825    299\n",
      "PHY412004    270\n",
      "PHY369188    215\n",
      "PHY356145    185\n",
      "            ... \n",
      "PHY420458      1\n",
      "PHY425548      1\n",
      "PHY321166      1\n",
      "PHY378553      1\n",
      "PHY332594      1\n",
      "Name: count, Length: 2657, dtype: int64\n"
     ]
    }
   ],
   "source": [
    "# Count occurrences of each unique value of attending physicians.\n",
    "attending_physician_counts = test_inpatient['AttendingPhysician'].value_counts()\n",
    "print(attending_physician_counts)"
   ]
  },
  {
   "cell_type": "code",
   "execution_count": null,
   "metadata": {},
   "outputs": [
    {
     "name": "stdout",
     "output_type": "stream",
     "text": [
      "OperatingPhysician\n",
      "PHY356259    170\n",
      "PHY350998    170\n",
      "PHY335869    139\n",
      "PHY411861    135\n",
      "PHY356145    112\n",
      "            ... \n",
      "PHY403907      1\n",
      "PHY393459      1\n",
      "PHY362342      1\n",
      "PHY352502      1\n",
      "PHY389249      1\n",
      "Name: count, Length: 1870, dtype: int64\n"
     ]
    }
   ],
   "source": [
    "# Count occurrences of each unique value of operating physicians.\n",
    "operating_physician_counts = test_inpatient['OperatingPhysician'].value_counts()\n",
    "print(operating_physician_counts)"
   ]
  }
 ],
 "metadata": {
  "kernelspec": {
   "display_name": "Python 3",
   "language": "python",
   "name": "python3"
  },
  "language_info": {
   "codemirror_mode": {
    "name": "ipython",
    "version": 3
   },
   "file_extension": ".py",
   "mimetype": "text/x-python",
   "name": "python",
   "nbconvert_exporter": "python",
   "pygments_lexer": "ipython3",
   "version": "3.11.9"
  }
 },
 "nbformat": 4,
 "nbformat_minor": 2
}
