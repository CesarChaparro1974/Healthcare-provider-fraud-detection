{
 "cells": [
  {
   "cell_type": "code",
   "execution_count": 1,
   "metadata": {},
   "outputs": [],
   "source": [
    "import pandas as pd"
   ]
  },
  {
   "cell_type": "code",
   "execution_count": 2,
   "metadata": {},
   "outputs": [],
   "source": [
    "# open datasets\n",
    "test_beneficiary = pd.read_csv(\"data_base/Test_Beneficiarydata-1542969243754.csv\")\n",
    "test_inpatient = pd.read_csv(\"data_base/Test_Inpatientdata-1542969243754.csv\")\n",
    "test_outpatient = pd.read_csv(\"data_base/Test_Outpatientdata-1542969243754.csv\")\n",
    "test = pd.read_csv(\"data_base/Test-1542969243754.csv\")\n",
    "train_beneficiary = pd.read_csv(\"data_base/Train_Beneficiarydata-1542865627584.csv\")\n",
    "train_inpatient = pd.read_csv(\"data_base/Train_Inpatientdata-1542865627584.csv\")\n",
    "train_outpatient = pd.read_csv(\"data_base/Train_Outpatientdata-1542865627584.csv\")\n",
    "train = pd.read_csv(\"data_base/Train-1542865627584.csv\")"
   ]
  }
 ],
 "metadata": {
  "kernelspec": {
   "display_name": "Python 3",
   "language": "python",
   "name": "python3"
  },
  "language_info": {
   "codemirror_mode": {
    "name": "ipython",
    "version": 3
   },
   "file_extension": ".py",
   "mimetype": "text/x-python",
   "name": "python",
   "nbconvert_exporter": "python",
   "pygments_lexer": "ipython3",
   "version": "3.12.2"
  }
 },
 "nbformat": 4,
 "nbformat_minor": 2
}
